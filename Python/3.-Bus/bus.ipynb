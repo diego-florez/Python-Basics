{
 "cells": [
  {
   "cell_type": "markdown",
   "metadata": {},
   "source": [
    "<img src=\"https://bit.ly/2VnXWr2\" width=\"100\" align=\"left\">"
   ]
  },
  {
   "cell_type": "markdown",
   "metadata": {},
   "source": [
    "# Bus\n",
    "\n",
    "This bus has a passenger entry and exit control system to monitor the number of occupants it carries and thus detect when there are too many.\n",
    "\n",
    "At each stop, the entry and exit of passengers is represented by a tuple consisting of two integer numbers.\n",
    "```\n",
    "bus_stop = (in, out)\n",
    "```\n",
    "The succession of stops is represented by a list of these tuples.\n",
    "```\n",
    "stops = [(in1, out1), (in2, out2), (in3, out3), (in4, out4)]\n",
    "```\n",
    "\n",
    "## Tools\n",
    "You don't necessarily need to use all the tools. Maybe you opt to use some of them or completely different ones, they are given to help you shape the exercise. Programming exercises can be solved in many different ways.\n",
    "* Data structures: **lists, tuples**\n",
    "* Loop: **while/for loops**\n",
    "* Functions: **min, max, len**\n",
    "\n",
    "## Tasks"
   ]
  },
  {
   "cell_type": "code",
   "execution_count": 1,
   "metadata": {},
   "outputs": [],
   "source": [
    "# Variables\n",
    "#Como nos indican el numero de la izquierda de cada tuple dentro de la lista, es el numero de pasajeros\n",
    "#que entra, y el de la derecha el que sale\n",
    "stops = [(10, 0), (4, 1), (3, 5), (3, 4), (5, 1), (1, 5), (5, 8), (4, 6), (2, 3)]"
   ]
  },
  {
   "cell_type": "markdown",
   "metadata": {},
   "source": [
    "#### 1. Calculate the number of stops."
   ]
  },
  {
   "cell_type": "code",
   "execution_count": 2,
   "metadata": {},
   "outputs": [
    {
     "data": {
      "text/plain": [
       "9"
      ]
     },
     "execution_count": 2,
     "metadata": {},
     "output_type": "execute_result"
    }
   ],
   "source": [
    "#el numero de paradas lo sabemos contando simplemente el numero de iteraciones, que lo podemos hacer con \n",
    "#el built in method \"len\"\n",
    "len(stops)"
   ]
  },
  {
   "cell_type": "markdown",
   "metadata": {},
   "source": [
    "#### 2. Assign to a variable a list whose elements are the number of passengers at each stop (in-out).\n",
    "Each item depends on the previous item in the list + in - out."
   ]
  },
  {
   "cell_type": "code",
   "execution_count": 3,
   "metadata": {},
   "outputs": [
    {
     "name": "stdout",
     "output_type": "stream",
     "text": [
      "Resta tuple 10\n",
      "Resta tuple 3\n",
      "Resta tuple -2\n",
      "Resta tuple -1\n",
      "Resta tuple 4\n",
      "Resta tuple -4\n",
      "Resta tuple -3\n",
      "Resta tuple -2\n",
      "Resta tuple -1\n"
     ]
    },
    {
     "data": {
      "text/plain": [
       "[10, 3, -2, -1, 4, -4, -3, -2, -1]"
      ]
     },
     "execution_count": 3,
     "metadata": {},
     "output_type": "execute_result"
    }
   ],
   "source": [
    "#Para saber cuantos pasajeros hay por parada tenemos que iterar en la lista y restar el numero de la izquierda\n",
    "#de cada tuple menos el numero de su derecha\n",
    "\n",
    "#Ademas tenemos que almacenar esos outputs en una lista nueva, por lo que empezaremos por una lista vacia\n",
    "pass_per_stop = []\n",
    "#como hemos dicho iteraremos cada tuple\n",
    "for passengers in stops:\n",
    "    #Para acceder al numero indice 0 e indice 1 de cada tuple y restarlos, haremos igual que en las listas [0] y [1]\n",
    "    print(\"Resta tuple\", passengers[0]-passengers[1])\n",
    "    pass_per_stop.append(passengers[0]-passengers[1])\n",
    "    \n",
    "pass_per_stop\n",
    "\n",
    "#Como vemos debajo hay algo que no estamps haciendo bien, porque nos piden que numero de pasajeros van almacenandose\n",
    "#en cada parada. Nosotros solo hemos calculado cuantos se suben-bajan en cada parada"
   ]
  },
  {
   "cell_type": "code",
   "execution_count": 4,
   "metadata": {},
   "outputs": [
    {
     "data": {
      "text/plain": [
       "[10, 13, 11, 10, 14, 10, 7, 5, 4]"
      ]
     },
     "execution_count": 4,
     "metadata": {},
     "output_type": "execute_result"
    }
   ],
   "source": [
    "#Para ello vamos a añadir una variable que vaya sumando los nuevos pasajeros menos los que se van por parada\n",
    "pass_per_stop = []\n",
    "#tiene que empezar en 0\n",
    "n_pass = 0\n",
    "for passengers in stops:\n",
    "    #Y aqui comenzamos a sumarle pasajeros\n",
    "    n_pass += passengers[0]-passengers[1]\n",
    "    pass_per_stop.append(n_pass)\n",
    "pass_per_stop\n",
    "\n",
    "#Y como vemos en nuestro output los pasajeros se han añadido"
   ]
  },
  {
   "cell_type": "code",
   "execution_count": 5,
   "metadata": {},
   "outputs": [
    {
     "data": {
      "text/plain": [
       "[('Stop Number', 1, '#Passengers', 10),\n",
       " ('Stop Number', 2, '#Passengers', 13),\n",
       " ('Stop Number', 3, '#Passengers', 11),\n",
       " ('Stop Number', 4, '#Passengers', 10),\n",
       " ('Stop Number', 5, '#Passengers', 14),\n",
       " ('Stop Number', 6, '#Passengers', 10),\n",
       " ('Stop Number', 7, '#Passengers', 7),\n",
       " ('Stop Number', 8, '#Passengers', 5),\n",
       " ('Stop Number', 9, '#Passengers', 4)]"
      ]
     },
     "execution_count": 5,
     "metadata": {},
     "output_type": "execute_result"
    }
   ],
   "source": [
    "#Si queremos hacer mas bonito el output podemos añadir un tuple de 4 puntos en cada iteración\n",
    "pass_per_stop_cool = []\n",
    "n_pass = 0\n",
    "for stop, passengers in enumerate(stops):\n",
    "    n_pass += passengers[0]-passengers[1]\n",
    "    pass_per_stop_cool.append((\"Stop Number\", stop+1, \"#Passengers\", n_pass ))\n",
    "pass_per_stop_cool"
   ]
  },
  {
   "cell_type": "markdown",
   "metadata": {},
   "source": [
    "#### 3. Find the maximum occupation of the bus."
   ]
  },
  {
   "cell_type": "code",
   "execution_count": 6,
   "metadata": {},
   "outputs": [
    {
     "data": {
      "text/plain": [
       "14"
      ]
     },
     "execution_count": 6,
     "metadata": {},
     "output_type": "execute_result"
    }
   ],
   "source": [
    "#Para la primera resolución correcta unicamente haremos el max de la lista\n",
    "max(pass_per_stop)"
   ]
  },
  {
   "cell_type": "code",
   "execution_count": 7,
   "metadata": {},
   "outputs": [
    {
     "data": {
      "text/plain": [
       "14"
      ]
     },
     "execution_count": 7,
     "metadata": {},
     "output_type": "execute_result"
    }
   ],
   "source": [
    "#Pero para el output largo tendremos que acceder al 4 numero de cada tuple\n",
    "#Esto es hacer un loop, y acceder en cada iteracion al indice 3\n",
    "max([p[3] for p in pass_per_stop_cool])"
   ]
  },
  {
   "cell_type": "markdown",
   "metadata": {},
   "source": [
    "#### 4. Calculate the average occupation. And the standard deviation."
   ]
  },
  {
   "cell_type": "code",
   "execution_count": 8,
   "metadata": {},
   "outputs": [
    {
     "data": {
      "text/plain": [
       "(9.333333333333334, 3.197221015541813)"
      ]
     },
     "execution_count": 8,
     "metadata": {},
     "output_type": "execute_result"
    }
   ],
   "source": [
    "import numpy as np\n",
    "\n",
    "np.mean(pass_per_stop), np.std(pass_per_stop) "
   ]
  },
  {
   "cell_type": "code",
   "execution_count": 9,
   "metadata": {},
   "outputs": [
    {
     "data": {
      "text/plain": [
       "(9.333333333333334, 3.197221015541813)"
      ]
     },
     "execution_count": 9,
     "metadata": {},
     "output_type": "execute_result"
    }
   ],
   "source": [
    "np.mean([p[3] for p in pass_per_stop_cool]), np.std([p[3] for p in pass_per_stop_cool]) "
   ]
  }
 ],
 "metadata": {
  "kernelspec": {
   "display_name": "Python 3",
   "language": "python",
   "name": "python3"
  },
  "language_info": {
   "codemirror_mode": {
    "name": "ipython",
    "version": 3
   },
   "file_extension": ".py",
   "mimetype": "text/x-python",
   "name": "python",
   "nbconvert_exporter": "python",
   "pygments_lexer": "ipython3",
   "version": "3.7.4"
  }
 },
 "nbformat": 4,
 "nbformat_minor": 2
}
