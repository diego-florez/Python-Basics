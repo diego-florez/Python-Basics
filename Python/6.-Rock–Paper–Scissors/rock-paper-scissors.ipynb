{
 "cells": [
  {
   "cell_type": "markdown",
   "metadata": {},
   "source": [
    "<img src=\"https://bit.ly/2VnXWr2\" width=\"100\" align=\"left\">"
   ]
  },
  {
   "cell_type": "markdown",
   "metadata": {},
   "source": [
    "# Rock, Paper & Scissors\n",
    "\n",
    "Let's play the famous game against our computer. You can check the rules [here](https://en.wikipedia.org/wiki/Rock%E2%80%93paper%E2%80%93scissors). \n",
    "\n",
    "## Task\n",
    "Create a program that imitates the playability of the well known game of rock, paper, scissors. Follow the guidelines provided.\n",
    "\n",
    "## Tools\n",
    "1. Loop: **for/while**\n",
    "2. Functions: **input(), print()...**\n",
    "3. Conditional statements: **if, elif, else**\n",
    "4. Definition of functions. Modular programming\n",
    "5. Import modules\n",
    "\n",
    "**To solve this challenge, the use of functions is recommended.**\n",
    "\n",
    "#### 1. Import the choice function of the random module."
   ]
  },
  {
   "cell_type": "code",
   "execution_count": 1,
   "metadata": {},
   "outputs": [],
   "source": [
    "from random import choice"
   ]
  },
  {
   "cell_type": "markdown",
   "metadata": {},
   "source": [
    "#### 2. Create a list that includes the 3 possible gesture options of the game: 'rock', 'paper' or 'scissors'. Store the list in a variable called `gestures`."
   ]
  },
  {
   "cell_type": "code",
   "execution_count": 2,
   "metadata": {},
   "outputs": [],
   "source": [
    "gestures = [\"rock\", \"paper\", \"scissors\"]"
   ]
  },
  {
   "cell_type": "markdown",
   "metadata": {},
   "source": [
    "#### 3. Create a variable called `n_rounds` to store the maximum number of rounds to play in a game. \n",
    "Remember that the number of rounds must be odd: 1, 3, 5, ..."
   ]
  },
  {
   "cell_type": "code",
   "execution_count": 3,
   "metadata": {},
   "outputs": [],
   "source": [
    "n_rounds = 7"
   ]
  },
  {
   "cell_type": "markdown",
   "metadata": {},
   "source": [
    "#### 4. Create a variable called `rounds_to_win` to store the number of rounds that a player must win to win the game.\n",
    "**Hint**: the value stored in `rounds_to_win` depends on the value of `n_rounds`. "
   ]
  },
  {
   "cell_type": "code",
   "execution_count": 4,
   "metadata": {},
   "outputs": [],
   "source": [
    "rounds_to_win = 3"
   ]
  },
  {
   "cell_type": "markdown",
   "metadata": {},
   "source": [
    "#### 5. Create two variables to store the number of rounds that the computer and the player have won. Call these variables `cpu_score` and `player_score`."
   ]
  },
  {
   "cell_type": "code",
   "execution_count": 5,
   "metadata": {},
   "outputs": [],
   "source": [
    "cpu_score, player_score = 0, 0"
   ]
  },
  {
   "cell_type": "markdown",
   "metadata": {},
   "source": [
    "#### 6. Define a function that randomly returns one of the 3 gesture options.\n",
    "You will use this function to simulate the gesture choice of the computer. "
   ]
  },
  {
   "cell_type": "code",
   "execution_count": 6,
   "metadata": {},
   "outputs": [],
   "source": [
    "def cpu_answer(gestures):\n",
    "    choose = choice(gestures)\n",
    "    print(\"cpu answer:\", choose, \"\\n\")\n",
    "    return choose"
   ]
  },
  {
   "cell_type": "markdown",
   "metadata": {},
   "source": [
    "#### 7. Define a function that asks the player which is the gesture he or she wants to show: 'rock', 'paper' or 'scissors'.\n",
    "The player should only be allowed to choose one of the 3 gesture options. If the player's choice is not rock, paper or scissors, keep asking until it is."
   ]
  },
  {
   "cell_type": "code",
   "execution_count": 7,
   "metadata": {},
   "outputs": [],
   "source": [
    "#usamos un while para que no pare de preguntar hasta que el input de choose esté en la lista gestures\n",
    "\n",
    "def ask(gestures):\n",
    "    choose = input(\"Please select an option between these 3:\\n'rock'\\n'paper'\\n'scissors'\\n\")\n",
    "    while choose not in gestures:\n",
    "        choose = input(\"Please select 1 of the previous options\\n\")\n",
    "    print(\"player answer\", choose, \"\\n\")\n",
    "    return choose"
   ]
  },
  {
   "cell_type": "markdown",
   "metadata": {},
   "source": [
    "#### 8. Define a function that checks who won a round. \n",
    "The function should return 0 if there is a tie, 1 if the computer wins and 2 if the player wins."
   ]
  },
  {
   "cell_type": "code",
   "execution_count": 8,
   "metadata": {},
   "outputs": [],
   "source": [
    "#estas son todas las opciones que tiene la máquina o el jugador de ganar o perder\n",
    "\n",
    "def round_winner(cpu, player):\n",
    "    if cpu == player:\n",
    "        return 0\n",
    "    elif cpu == \"paper\" and player == \"rock\":\n",
    "        return 1\n",
    "    elif cpu == \"rock\" and player == \"scissors\":\n",
    "        return 1\n",
    "    elif cpu == \"scissors\" and player == \"paper\":\n",
    "        return 1\n",
    "    elif player == \"paper\" and cpu == \"rock\":\n",
    "        return 2\n",
    "    elif player == \"rock\" and cpu == \"scissors\":\n",
    "        return 2\n",
    "    elif player == \"scissors\" and cpu == \"paper\":\n",
    "        return 2"
   ]
  },
  {
   "cell_type": "markdown",
   "metadata": {},
   "source": [
    "#### 9. Define a function that prints the choice of the computer, the choice of the player and a message that announces who won the current round. \n",
    "You should also use this function to update the variables that count the number of rounds that the computer and the player have won. The score of the winner increases by one point. If there is a tie, the score does not increase."
   ]
  },
  {
   "cell_type": "code",
   "execution_count": 9,
   "metadata": {},
   "outputs": [],
   "source": [
    "#como vemos esta función no contiene un \"return\", por qué? \n",
    "#porque no nos interesa almacenar su valor, únicamente la queremos para ver lo que ha elegido el ordenador y el\n",
    "#player\n",
    "\n",
    "def show_results(cpu_choice, player_choice, winner):\n",
    "    print(\"cpu answer\", cpu_choice, \"\\n\")\n",
    "    print(\"player answer\", player_choice, \"\\n\")\n",
    "    print(\"winner previous round\", winner, \"\\n\")"
   ]
  },
  {
   "cell_type": "markdown",
   "metadata": {},
   "source": [
    "#### 10. Now it's time to code the execution of the game using the functions and variables you defined above. \n",
    "\n",
    "First, create a loop structure that repeats while no player reaches the minimum score necessary to win and the number of rounds is less than the maximum number of rounds to play in a game.  \n",
    "\n",
    "Inside the loop, use the functions and variables above to create the execution of a round: ask for the player's choice, generate the random choice of the computer, show the round results, update the scores, etc. "
   ]
  },
  {
   "cell_type": "code",
   "execution_count": 10,
   "metadata": {},
   "outputs": [
    {
     "name": "stdout",
     "output_type": "stream",
     "text": [
      "cpu answer: paper \n",
      "\n",
      "Please select an option between these 3:\n",
      "'rock'\n",
      "'paper'\n",
      "'scissors'\n",
      "rokc\n",
      "Please select 1 of the previous options\n",
      "rock\n",
      "player answer rock \n",
      "\n",
      "cpu answer paper \n",
      "\n",
      "player answer rock \n",
      "\n",
      "winner previous round cpu \n",
      "\n",
      "Round number: 1 , current cpu score: 1 , current player score: 0 \n",
      "\n",
      "cpu answer: paper \n",
      "\n",
      "Please select an option between these 3:\n",
      "'rock'\n",
      "'paper'\n",
      "'scissors'\n",
      "rock\n",
      "player answer rock \n",
      "\n",
      "cpu answer paper \n",
      "\n",
      "player answer rock \n",
      "\n",
      "winner previous round cpu \n",
      "\n",
      "Round number: 2 , current cpu score: 2 , current player score: 0 \n",
      "\n",
      "cpu answer: rock \n",
      "\n",
      "Please select an option between these 3:\n",
      "'rock'\n",
      "'paper'\n",
      "'scissors'\n",
      "paper\n",
      "player answer paper \n",
      "\n",
      "cpu answer rock \n",
      "\n",
      "player answer paper \n",
      "\n",
      "winner previous round player \n",
      "\n",
      "Round number: 3 , current cpu score: 2 , current player score: 1 \n",
      "\n",
      "cpu answer: rock \n",
      "\n",
      "Please select an option between these 3:\n",
      "'rock'\n",
      "'paper'\n",
      "'scissors'\n",
      "rock\n",
      "player answer rock \n",
      "\n",
      "cpu answer rock \n",
      "\n",
      "player answer rock \n",
      "\n",
      "winner previous round player \n",
      "\n",
      "Round number: 4 , current cpu score: 2 , current player score: 1 \n",
      "\n",
      "cpu answer: rock \n",
      "\n",
      "Please select an option between these 3:\n",
      "'rock'\n",
      "'paper'\n",
      "'scissors'\n",
      "paper\n",
      "player answer paper \n",
      "\n",
      "cpu answer rock \n",
      "\n",
      "player answer paper \n",
      "\n",
      "winner previous round player \n",
      "\n",
      "Round number: 5 , current cpu score: 2 , current player score: 2 \n",
      "\n",
      "cpu answer: paper \n",
      "\n",
      "Please select an option between these 3:\n",
      "'rock'\n",
      "'paper'\n",
      "'scissors'\n",
      "rock\n",
      "player answer rock \n",
      "\n",
      "cpu answer paper \n",
      "\n",
      "player answer rock \n",
      "\n",
      "winner previous round cpu \n",
      "\n",
      "Round number: 6 , current cpu score: 3 , current player score: 2 \n",
      "\n"
     ]
    }
   ],
   "source": [
    "#copiamos estas variables otra ve aquí para que cada vez que corramos el código en esta celda se reinicien a 0\n",
    "#si no tendríamos que reiniciar el kernel si una de las dos acumula 3 rounds ganadas\n",
    "cpu_score, player_score = 0, 0\n",
    "\n",
    "rounds = 0\n",
    "\n",
    "#como vemos usamos \"and\" y no \"or\", aunque lo correcto parezca usar \"or\", al combinarlo con \"while\" éste \n",
    "#no pararía nunca\n",
    "\n",
    "#por qué? \n",
    "#porque en realidad el código de abajo significa: \"mientras ninguna de estas ocurra, continua, pero si ocurre\n",
    "#alguna, para\". Por tanto no cabe opción a \"or\". Usaremos \"or\" solo con el condicional \"if\"\n",
    "while rounds < n_rounds and cpu_score < rounds_to_win and player_score < rounds_to_win:\n",
    "    cpu_choice = cpu_answer(gestures)\n",
    "    player_choice = ask(gestures)\n",
    "    rounds += 1\n",
    "    \n",
    "    r_winner = round_winner(cpu_choice, player_choice)\n",
    "    \n",
    "    if r_winner == 1:\n",
    "        cpu_score += 1\n",
    "        winner = \"cpu\"\n",
    "    elif r_winner == 2:\n",
    "        player_score += 1\n",
    "        winner = \"player\"\n",
    "    \n",
    "    show_results(cpu_choice, player_choice, winner)\n",
    "    \n",
    "    print(\"Round number:\", rounds, \", current cpu score:\", cpu_score, \", current player score:\", player_score, \"\\n\")"
   ]
  },
  {
   "cell_type": "markdown",
   "metadata": {},
   "source": [
    "#### 11. Print the winner of the game based on who won more rounds.\n",
    "Remember that the game might be tied. "
   ]
  },
  {
   "cell_type": "code",
   "execution_count": 11,
   "metadata": {},
   "outputs": [
    {
     "name": "stdout",
     "output_type": "stream",
     "text": [
      "Computer won\n"
     ]
    }
   ],
   "source": [
    "if cpu_score == player_score:\n",
    "    print(\"Tie\")\n",
    "elif cpu_score > player_score:\n",
    "    print(\"Computer won\")\n",
    "else:\n",
    "    print(\"Player won\")"
   ]
  },
  {
   "cell_type": "markdown",
   "metadata": {},
   "source": [
    "# Bonus: Rock, Paper, Scissors, Lizard & Spock\n",
    "![](images/rpsls.jpg)\n",
    "\n",
    "In this challenge, you need to improve the previous game by adding two new options. To know more about the rules of the improved version of rock, paper, scissors, check this [link](http://www.samkass.com/theories/RPSSL.html). \n",
    "\n",
    "In addition, you will also need to improve how the game interacts with the player: the number of rounds to play, which must be an odd number, will be requested to the user until a valid number is entered. Define a new function to make that request.\n",
    "\n",
    "**Hint**: Try to reuse the code that you already coded in the previous challenge. If your code is efficient, this bonus will only consist of simple modifications to the original game."
   ]
  },
  {
   "cell_type": "code",
   "execution_count": 12,
   "metadata": {},
   "outputs": [],
   "source": [
    "#como vemos aquí tenemos que convertir el input en un integer, ya que de por sí el input es un string value\n",
    "\n",
    "def choose_rounds():\n",
    "    choose = int(input(\"Please input the number of rounds you want to play in the game\\nREMEMBER the input must be an OOD NUMBER\\n\"))\n",
    "    while choose % 2 == 0:\n",
    "        choose = input(\"Please select an ODD NUMBER\\n\")\n",
    "    print(\"Number of rounds to play\", choose, \"\\n\")\n",
    "    return choose"
   ]
  },
  {
   "cell_type": "code",
   "execution_count": 13,
   "metadata": {},
   "outputs": [],
   "source": [
    "def improved_round_winner(cpu, player):\n",
    "    if cpu == player:\n",
    "        return 0\n",
    "    \n",
    "    elif cpu == \"paper\" and player == \"rock\":\n",
    "        return 1\n",
    "    elif cpu == \"paper\" and player == \"spock\":\n",
    "        return 1\n",
    "    \n",
    "    elif cpu == \"rock\" and player == \"scissors\":\n",
    "        return 1\n",
    "    elif cpu == \"rock\" and player == \"lizard\":\n",
    "        return 1\n",
    "    \n",
    "    elif cpu == \"scissors\" and player == \"paper\":\n",
    "        return 1\n",
    "    elif cpu == \"scissors\" and player == \"lizard\":\n",
    "        return 1\n",
    "    \n",
    "    elif cpu == \"spock\" and player == \"scissors\":\n",
    "        return 1\n",
    "    elif cpu == \"spock\" and player == \"rock\":\n",
    "        return 1\n",
    "    \n",
    "    elif cpu == \"lizard\" and player == \"paper\":\n",
    "        return 1\n",
    "    elif cpu == \"lizard\" and player == \"spock\":\n",
    "        return 1\n",
    "    \n",
    "    \n",
    "    \n",
    "    elif player == \"paper\" and cpu == \"rock\":\n",
    "        return 2\n",
    "    elif player == \"paper\" and cpu == \"spock\":\n",
    "        return 2\n",
    "    \n",
    "    elif player == \"rock\" and cpu == \"scissors\":\n",
    "        return 2\n",
    "    elif player == \"rock\" and cpu == \"lizard\":\n",
    "        return 2\n",
    "    \n",
    "    elif player == \"scissors\" and cpu == \"paper\":\n",
    "        return 2\n",
    "    elif player == \"scissors\" and cpu == \"lizard\":\n",
    "        return 2\n",
    "    \n",
    "    elif player == \"spock\" and cpu == \"scissors\":\n",
    "        return 2\n",
    "    elif player == \"spock\" and cpu == \"rock\":\n",
    "        return 2\n",
    "    \n",
    "    elif player == \"lizard\" and cpu == \"paper\":\n",
    "        return 2\n",
    "    elif player == \"lizard\" and cpu == \"spock\":\n",
    "        return 2"
   ]
  },
  {
   "cell_type": "code",
   "execution_count": 14,
   "metadata": {},
   "outputs": [],
   "source": [
    "def new_ask(gestures):\n",
    "    choose = input(\"Please select an option between these 5:\\n'rock'\\n'paper'\\n'scissors'\\n'spock'\\n'lizard'\\n\")\n",
    "    while choose not in gestures:\n",
    "        choose = input(\"Please select 1 of the previous options\\n\")\n",
    "    print(\"player answer\", choose, \"\\n\")\n",
    "    return choose"
   ]
  },
  {
   "cell_type": "code",
   "execution_count": 15,
   "metadata": {},
   "outputs": [
    {
     "name": "stdout",
     "output_type": "stream",
     "text": [
      "Please input the number of rounds you want to play in the game\n",
      "REMEMBER the input must be an OOD NUMBER\n",
      "1\n",
      "Number of rounds to play 1 \n",
      "\n",
      "cpu answer: scissors \n",
      "\n",
      "Please select an option between these 5:\n",
      "'rock'\n",
      "'paper'\n",
      "'scissors'\n",
      "'spock'\n",
      "'lizard'\n",
      "lizard\n",
      "player answer lizard \n",
      "\n",
      "cpu answer scissors \n",
      "\n",
      "player answer lizard \n",
      "\n",
      "winner previous round cpu \n",
      "\n",
      "Round number: 1 , current cpu score: 1 , current player score: 0 \n",
      "\n"
     ]
    }
   ],
   "source": [
    "new_gestures = [\"rock\", \"paper\", \"scissors\", \"spock\", \"lizard\"]\n",
    "\n",
    "cpu_score, player_score = 0, 0\n",
    "\n",
    "rounds = 0\n",
    "\n",
    "n_rounds = choose_rounds()\n",
    "\n",
    "while rounds < n_rounds and cpu_score < rounds_to_win and player_score < rounds_to_win:\n",
    "    cpu_choice = cpu_answer(new_gestures)\n",
    "    player_choice = new_ask(new_gestures)\n",
    "    rounds += 1\n",
    "    \n",
    "    r_winner = improved_round_winner(cpu_choice, player_choice)\n",
    "    \n",
    "    if r_winner == 1:\n",
    "        cpu_score += 1\n",
    "        winner = \"cpu\"\n",
    "    elif r_winner == 2:\n",
    "        player_score += 1\n",
    "        winner = \"player\"\n",
    "    \n",
    "    show_results(cpu_choice, player_choice, winner)\n",
    "    \n",
    "    print(\"Round number:\", rounds, \", current cpu score:\", cpu_score, \", current player score:\", player_score, \"\\n\")"
   ]
  },
  {
   "cell_type": "code",
   "execution_count": 16,
   "metadata": {},
   "outputs": [
    {
     "name": "stdout",
     "output_type": "stream",
     "text": [
      "Computer won\n"
     ]
    }
   ],
   "source": [
    "if cpu_score == player_score:\n",
    "    print(\"Tie\")\n",
    "elif cpu_score > player_score:\n",
    "    print(\"Computer won\")\n",
    "else:\n",
    "    print(\"Player won\")"
   ]
  }
 ],
 "metadata": {
  "kernelspec": {
   "display_name": "Python 3",
   "language": "python",
   "name": "python3"
  },
  "language_info": {
   "codemirror_mode": {
    "name": "ipython",
    "version": 3
   },
   "file_extension": ".py",
   "mimetype": "text/x-python",
   "name": "python",
   "nbconvert_exporter": "python",
   "pygments_lexer": "ipython3",
   "version": "3.7.4"
  }
 },
 "nbformat": 4,
 "nbformat_minor": 2
}
