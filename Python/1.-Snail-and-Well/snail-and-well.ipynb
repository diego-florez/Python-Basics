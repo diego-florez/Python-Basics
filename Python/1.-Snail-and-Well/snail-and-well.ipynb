{
 "cells": [
  {
   "cell_type": "markdown",
   "metadata": {},
   "source": [
    "<img src=\"https://bit.ly/2VnXWr2\" width=\"100\" align=\"left\">"
   ]
  },
  {
   "cell_type": "markdown",
   "metadata": {},
   "source": [
    "# The Snail and the Well\n",
    "\n",
    "A snail falls at the bottom of a 125 cm well. Each day the snail rises 30 cm. But at night, while sleeping, slides 20 cm because the walls are wet. How many days does it take for the snail to escape the well?\n",
    "\n",
    "**Hint**: The snail gets out of the well when it surpasses the 125cm of height.\n",
    "\n",
    "## Tools\n",
    "\n",
    "1. Loop: **while**\n",
    "2. Conditional statements: **if-else**\n",
    "3. Function: **print()**\n",
    "\n",
    "## Tasks\n",
    "\n",
    "#### 1. Assign the challenge data to variables with representative names: `well_height`, `daily_distance`, `nightly_distance` and `snail_position`."
   ]
  },
  {
   "cell_type": "code",
   "execution_count": 1,
   "metadata": {},
   "outputs": [],
   "source": [
    "well_height = 125\n",
    "daily_distance = 30\n",
    "nightly_distance = 20\n",
    "snail_position = 0"
   ]
  },
  {
   "cell_type": "markdown",
   "metadata": {},
   "source": [
    "#### 2. Create a variable `days` to keep count of the days that pass until the snail escapes the well. "
   ]
  },
  {
   "cell_type": "code",
   "execution_count": 2,
   "metadata": {},
   "outputs": [],
   "source": [
    "days = 0"
   ]
  },
  {
   "cell_type": "markdown",
   "metadata": {},
   "source": [
    "#### 3. Find the solution to the challenge using the variables defined above. "
   ]
  },
  {
   "cell_type": "code",
   "execution_count": 3,
   "metadata": {},
   "outputs": [
    {
     "name": "stdout",
     "output_type": "stream",
     "text": [
      "a) start day snail_position 0 start days 0 \n",
      "\n",
      "b) new snail_pos 10 \n",
      "\n",
      "c) adding days --> days = 1 \n",
      "\n",
      "a) start day snail_position 10 start days 1 \n",
      "\n",
      "b) new snail_pos 20 \n",
      "\n",
      "c) adding days --> days = 2 \n",
      "\n",
      "a) start day snail_position 20 start days 2 \n",
      "\n",
      "b) new snail_pos 30 \n",
      "\n",
      "c) adding days --> days = 3 \n",
      "\n",
      "a) start day snail_position 30 start days 3 \n",
      "\n",
      "b) new snail_pos 40 \n",
      "\n",
      "c) adding days --> days = 4 \n",
      "\n",
      "a) start day snail_position 40 start days 4 \n",
      "\n",
      "b) new snail_pos 50 \n",
      "\n",
      "c) adding days --> days = 5 \n",
      "\n",
      "a) start day snail_position 50 start days 5 \n",
      "\n",
      "b) new snail_pos 60 \n",
      "\n",
      "c) adding days --> days = 6 \n",
      "\n",
      "a) start day snail_position 60 start days 6 \n",
      "\n",
      "b) new snail_pos 70 \n",
      "\n",
      "c) adding days --> days = 7 \n",
      "\n",
      "a) start day snail_position 70 start days 7 \n",
      "\n",
      "b) new snail_pos 80 \n",
      "\n",
      "c) adding days --> days = 8 \n",
      "\n",
      "a) start day snail_position 80 start days 8 \n",
      "\n",
      "b) new snail_pos 90 \n",
      "\n",
      "c) adding days --> days = 9 \n",
      "\n",
      "a) start day snail_position 90 start days 9 \n",
      "\n",
      "b) new snail_pos 100 \n",
      "\n",
      "c) adding days --> days = 10 \n",
      "\n",
      "a) start day snail_position 100 start days 10 \n",
      "\n",
      "b) new snail_pos 110 \n",
      "\n",
      "c) adding days --> days = 11 \n",
      "\n",
      "a) start day snail_position 110 start days 11 \n",
      "\n",
      "b) new snail_pos 120 \n",
      "\n",
      "c) adding days --> days = 12 \n",
      "\n",
      "a) start day snail_position 120 start days 12 \n",
      "\n",
      "b) new snail_pos 130 \n",
      "\n",
      "c) adding days --> days = 13 \n",
      "\n"
     ]
    }
   ],
   "source": [
    "#Primer approach, qué necesitamos para saber qué dia nuestro caracol ha superado well_height?\n",
    "#1. Los datos que nos dan\n",
    "#2. Ir sumando lo que adelante el caracol por dia, snail_position\n",
    "#3. Sumar los dias tambien, e indicar el dia que nuestro caracol superó well_height\n",
    "\n",
    "#Por tanto usaremos un while loop, que sumará días y centimetros a la posición de nuestro caracol, hasta que\n",
    "#supere well_height, ahí dejará de funcionar\n",
    "\n",
    "\n",
    "well_height = 125\n",
    "daily_distance = 30\n",
    "nightly_distance = 20\n",
    "snail_position = 0\n",
    "days = 0\n",
    "\n",
    "#Este while indica que mientras snail_position sea menor o igual a well_height, nuestro código seguirá iterando\n",
    "#pero una vez super well_height, dejará de funcionar\n",
    "while snail_position <= well_height:\n",
    "    print(\"a) start day snail_position\", snail_position, \"start days\", days, \"\\n\")#este slash + n provoca un espacio en el ouput\n",
    "    snail_position += daily_distance - nightly_distance\n",
    "    print(\"b) new snail_pos\", snail_position, \"\\n\")\n",
    "    days += 1\n",
    "    print(\"c) adding days --> days =\", days, \"\\n\")\n",
    "    \n",
    "#Como vemos hemos obtenido los días que nuestro caracol tarda en subir --> 13\n",
    "#Sin embargo, si nos fijamos bien, hay un error; si nos vamos al día 10, vemos que si no le hubieramos restado\n",
    "#la noche, nuestro caracol hubiera superado la barrera al final del día 11, por lo que tenemos que modificar el\n",
    "#código"
   ]
  },
  {
   "cell_type": "code",
   "execution_count": 4,
   "metadata": {},
   "outputs": [
    {
     "name": "stdout",
     "output_type": "stream",
     "text": [
      "a) start day snail_position 0 start days 0 \n",
      "\n",
      "b) new snail_pos 10 \n",
      "\n",
      "c) adding days --> days = 1 \n",
      "\n",
      "a) start day snail_position 10 start days 1 \n",
      "\n",
      "b) new snail_pos 20 \n",
      "\n",
      "c) adding days --> days = 2 \n",
      "\n",
      "a) start day snail_position 20 start days 2 \n",
      "\n",
      "b) new snail_pos 30 \n",
      "\n",
      "c) adding days --> days = 3 \n",
      "\n",
      "a) start day snail_position 30 start days 3 \n",
      "\n",
      "b) new snail_pos 40 \n",
      "\n",
      "c) adding days --> days = 4 \n",
      "\n",
      "a) start day snail_position 40 start days 4 \n",
      "\n",
      "b) new snail_pos 50 \n",
      "\n",
      "c) adding days --> days = 5 \n",
      "\n",
      "a) start day snail_position 50 start days 5 \n",
      "\n",
      "b) new snail_pos 60 \n",
      "\n",
      "c) adding days --> days = 6 \n",
      "\n",
      "a) start day snail_position 60 start days 6 \n",
      "\n",
      "b) new snail_pos 70 \n",
      "\n",
      "c) adding days --> days = 7 \n",
      "\n",
      "a) start day snail_position 70 start days 7 \n",
      "\n",
      "b) new snail_pos 80 \n",
      "\n",
      "c) adding days --> days = 8 \n",
      "\n",
      "a) start day snail_position 80 start days 8 \n",
      "\n",
      "b) new snail_pos 90 \n",
      "\n",
      "c) adding days --> days = 9 \n",
      "\n",
      "a) start day snail_position 90 start days 9 \n",
      "\n",
      "b) new snail_pos 100 \n",
      "\n",
      "c) adding days --> days = 10 \n",
      "\n",
      "a) start day snail_position 100 start days 10 \n",
      "\n",
      "b) new snail_pos 130 \n",
      "\n",
      "c) adding days --> days = 11 \n",
      "\n"
     ]
    }
   ],
   "source": [
    "#Aqui vemos que si snail_position < 100 hay que restarle nightly_distance, pero al alzancar el dia 11 suma 30\n",
    "#por lo que ese día no hay que restarle ya la noche\n",
    "\n",
    "well_height = 125\n",
    "daily_distance = 30\n",
    "nightly_distance = 20\n",
    "snail_position = 0\n",
    "days = 0\n",
    "\n",
    "while snail_position <= well_height:\n",
    "    print(\"a) start day snail_position\", snail_position, \"start days\", days, \"\\n\")\n",
    "    if snail_position < 100:\n",
    "        snail_position += daily_distance - nightly_distance\n",
    "        print(\"b) new snail_pos\", snail_position, \"\\n\")\n",
    "    else:\n",
    "        snail_position += daily_distance\n",
    "        print(\"b) new snail_pos\", snail_position, \"\\n\")\n",
    "    days += 1\n",
    "    print(\"c) adding days --> days =\", days, \"\\n\")"
   ]
  },
  {
   "cell_type": "code",
   "execution_count": 5,
   "metadata": {},
   "outputs": [
    {
     "name": "stdout",
     "output_type": "stream",
     "text": [
      "a) start day snail_position 0 start days 0 \n",
      "\n",
      "b) new snail_pos 30 \n",
      "\n",
      "d) adding days --> days = 1 \n",
      "\n",
      "c) new snail_pos - nightly_distance 10 \n",
      "\n",
      "a) start day snail_position 10 start days 1 \n",
      "\n",
      "b) new snail_pos 40 \n",
      "\n",
      "d) adding days --> days = 2 \n",
      "\n",
      "c) new snail_pos - nightly_distance 20 \n",
      "\n",
      "a) start day snail_position 20 start days 2 \n",
      "\n",
      "b) new snail_pos 50 \n",
      "\n",
      "d) adding days --> days = 3 \n",
      "\n",
      "c) new snail_pos - nightly_distance 30 \n",
      "\n",
      "a) start day snail_position 30 start days 3 \n",
      "\n",
      "b) new snail_pos 60 \n",
      "\n",
      "d) adding days --> days = 4 \n",
      "\n",
      "c) new snail_pos - nightly_distance 40 \n",
      "\n",
      "a) start day snail_position 40 start days 4 \n",
      "\n",
      "b) new snail_pos 70 \n",
      "\n",
      "d) adding days --> days = 5 \n",
      "\n",
      "c) new snail_pos - nightly_distance 50 \n",
      "\n",
      "a) start day snail_position 50 start days 5 \n",
      "\n",
      "b) new snail_pos 80 \n",
      "\n",
      "d) adding days --> days = 6 \n",
      "\n",
      "c) new snail_pos - nightly_distance 60 \n",
      "\n",
      "a) start day snail_position 60 start days 6 \n",
      "\n",
      "b) new snail_pos 90 \n",
      "\n",
      "d) adding days --> days = 7 \n",
      "\n",
      "c) new snail_pos - nightly_distance 70 \n",
      "\n",
      "a) start day snail_position 70 start days 7 \n",
      "\n",
      "b) new snail_pos 100 \n",
      "\n",
      "d) adding days --> days = 8 \n",
      "\n",
      "c) new snail_pos - nightly_distance 80 \n",
      "\n",
      "a) start day snail_position 80 start days 8 \n",
      "\n",
      "b) new snail_pos 110 \n",
      "\n",
      "d) adding days --> days = 9 \n",
      "\n",
      "c) new snail_pos - nightly_distance 90 \n",
      "\n",
      "a) start day snail_position 90 start days 9 \n",
      "\n",
      "b) new snail_pos 120 \n",
      "\n",
      "d) adding days --> days = 10 \n",
      "\n",
      "c) new snail_pos - nightly_distance 100 \n",
      "\n",
      "a) start day snail_position 100 start days 10 \n",
      "\n",
      "b) new snail_pos 130 \n",
      "\n",
      "d) adding days --> days = 11 \n",
      "\n"
     ]
    }
   ],
   "source": [
    "#Esta es otra forma de resolverlo y la más correcta; separando daily_distance y nightly_distance, e introduciendo un break statement\n",
    "#de por medio una vez snail_position supera well_height\n",
    "#Es importante también notificar que hemos cambiado el orden de \"days\", ahora esta por delante de nightly_distance\n",
    "\n",
    "well_height = 125\n",
    "daily_distance = 30\n",
    "nightly_distance = 20\n",
    "snail_position = 0\n",
    "days = 0\n",
    "\n",
    "while snail_position <= well_height:\n",
    "    print(\"a) start day snail_position\", snail_position, \"start days\", days, \"\\n\")\n",
    "    snail_position += daily_distance\n",
    "    print(\"b) new snail_pos\", snail_position, \"\\n\")\n",
    "    days += 1\n",
    "    print(\"d) adding days --> days =\", days, \"\\n\")\n",
    "    #Este if statement so tendrá efecto una vez snail_position sea mayor a well_height, si no será ignorado\n",
    "    #Además, lo situamos encima del resto de la noche, así tendrá en cuenta cada día sin la noche\n",
    "    if snail_position > well_height:\n",
    "        break\n",
    "    snail_position -= nightly_distance\n",
    "    print(\"c) new snail_pos - nightly_distance\", snail_position, \"\\n\")"
   ]
  },
  {
   "cell_type": "markdown",
   "metadata": {},
   "source": [
    "#### 4. Print the solution."
   ]
  },
  {
   "cell_type": "code",
   "execution_count": 6,
   "metadata": {},
   "outputs": [
    {
     "name": "stdout",
     "output_type": "stream",
     "text": [
      "11\n"
     ]
    }
   ],
   "source": [
    "print(days)"
   ]
  },
  {
   "cell_type": "markdown",
   "metadata": {},
   "source": [
    "## Bonus\n",
    "The distance traveled by the snail each day is now defined by a list.\n",
    "```\n",
    "advance_cm = [30, 21, 33, 77, 44, 45, 23, 45, 12, 34, 55]\n",
    "```\n",
    "On the first day, the snail rises 30cm but during the night it slides 20cm. On the second day, the snail rises 21cm but during the night it slides 20cm, and so on. \n",
    "\n",
    "#### 1. How many days does it take for the snail to escape the well?\n",
    "Follow the same guidelines as in the previous challenge.\n",
    "\n",
    "**Hint**: Remember that the snail gets out of the well when it surpasses the 125cm of height."
   ]
  },
  {
   "cell_type": "code",
   "execution_count": 7,
   "metadata": {},
   "outputs": [
    {
     "name": "stdout",
     "output_type": "stream",
     "text": [
      "a) start day snail_position 0 , accumulated days 0 \n",
      "\n",
      "daily_distance 30 \n",
      "\n",
      "b) new snail_pos 10 \n",
      "\n",
      "c) adding days --> days = 1 \n",
      "\n",
      "a) start day snail_position 10 , accumulated days 1 \n",
      "\n",
      "daily_distance 21 \n",
      "\n",
      "b) new snail_pos 11 \n",
      "\n",
      "c) adding days --> days = 2 \n",
      "\n",
      "a) start day snail_position 11 , accumulated days 2 \n",
      "\n",
      "daily_distance 33 \n",
      "\n",
      "b) new snail_pos 24 \n",
      "\n",
      "c) adding days --> days = 3 \n",
      "\n",
      "a) start day snail_position 24 , accumulated days 3 \n",
      "\n",
      "daily_distance 77 \n",
      "\n",
      "b) new snail_pos 81 \n",
      "\n",
      "c) adding days --> days = 4 \n",
      "\n",
      "a) start day snail_position 81 , accumulated days 4 \n",
      "\n",
      "daily_distance 44 \n",
      "\n",
      "b) new snail_pos 105 \n",
      "\n",
      "c) adding days --> days = 5 \n",
      "\n",
      "a) start day snail_position 105 , accumulated days 5 \n",
      "\n",
      "daily_distance 45 \n",
      "\n",
      "b) new snail_pos 150 \n",
      "\n",
      "c) adding days --> days = 6 \n",
      "\n",
      "a) start day snail_position 150 , accumulated days 6 \n",
      "\n",
      "daily_distance 23 \n",
      "\n",
      "b) new snail_pos 173 \n",
      "\n",
      "c) adding days --> days = 7 \n",
      "\n",
      "a) start day snail_position 173 , accumulated days 7 \n",
      "\n",
      "daily_distance 45 \n",
      "\n",
      "b) new snail_pos 218 \n",
      "\n",
      "c) adding days --> days = 8 \n",
      "\n",
      "a) start day snail_position 218 , accumulated days 8 \n",
      "\n",
      "daily_distance 12 \n",
      "\n",
      "b) new snail_pos 230 \n",
      "\n",
      "c) adding days --> days = 9 \n",
      "\n",
      "a) start day snail_position 230 , accumulated days 9 \n",
      "\n",
      "daily_distance 34 \n",
      "\n",
      "b) new snail_pos 264 \n",
      "\n",
      "c) adding days --> days = 10 \n",
      "\n",
      "a) start day snail_position 264 , accumulated days 10 \n",
      "\n",
      "daily_distance 55 \n",
      "\n",
      "b) new snail_pos 319 \n",
      "\n",
      "c) adding days --> days = 11 \n",
      "\n"
     ]
    }
   ],
   "source": [
    "#Aqui en el primer approach, lo primero que yo haria sería incluir un for loop para acceder a cada elemento de\n",
    "#la lista advance_cm, que será nuestro nuevo día a día (en lugar de 30 cada día). Y como antes hemos hecho\n",
    "#añadiría el if statement y el while loop. \n",
    "\n",
    "#Pero al hacerlo nos damos cuenta que no hace caso al loop while.\n",
    "#Por que? Porque Python funciona de la siguiente manera, primero entra en el loop while, y luego en el loop for\n",
    "#pero claro, no sale del loop for hasta que no ha terminado todas sus iteraciones, esto es, cada uno de los\n",
    "#elementos de la lista advance_cm = [30, 21, 33, 77, 44, 45, 23, 45, 12, 34, 55], que son 11 elementos. \n",
    "#Por tanto el while loop no vuelve a comprobar la regla snail_position <= well_height, hasta que las 11 iteraciones\n",
    "#se han dado, siendo ya tarde.\n",
    "\n",
    "well_height = 125\n",
    "advance_cm = [30, 21, 33, 77, 44, 45, 23, 45, 12, 34, 55]\n",
    "nightly_distance = 20\n",
    "snail_position = 0\n",
    "days = 0\n",
    "\n",
    "while snail_position <= well_height:\n",
    "    #snail_position\n",
    "    for daily_distance in advance_cm:\n",
    "        print(\"a) start day snail_position\", snail_position, \", accumulated days\", days, \"\\n\")\n",
    "        if snail_position < 100:\n",
    "            print(\"daily_distance\", daily_distance, \"\\n\")\n",
    "            snail_position += daily_distance - nightly_distance\n",
    "            print(\"b) new snail_pos\", snail_position, \"\\n\")\n",
    "        else:\n",
    "            print(\"daily_distance\", daily_distance, \"\\n\")\n",
    "            snail_position += daily_distance\n",
    "            print(\"b) new snail_pos\", snail_position, \"\\n\")\n",
    "        days += 1\n",
    "        print(\"c) adding days --> days =\", days, \"\\n\")"
   ]
  },
  {
   "cell_type": "code",
   "execution_count": 8,
   "metadata": {},
   "outputs": [
    {
     "name": "stdout",
     "output_type": "stream",
     "text": [
      "a) start day snail_position 0 , accumulated days 0 \n",
      "\n",
      "daily_distance 30 \n",
      "\n",
      "b) new snail_pos 10 \n",
      "\n",
      "c) adding days --> days = 1 \n",
      "\n",
      "a) start day snail_position 10 , accumulated days 1 \n",
      "\n",
      "daily_distance 21 \n",
      "\n",
      "b) new snail_pos 11 \n",
      "\n",
      "c) adding days --> days = 2 \n",
      "\n",
      "a) start day snail_position 11 , accumulated days 2 \n",
      "\n",
      "daily_distance 33 \n",
      "\n",
      "b) new snail_pos 24 \n",
      "\n",
      "c) adding days --> days = 3 \n",
      "\n",
      "a) start day snail_position 24 , accumulated days 3 \n",
      "\n",
      "daily_distance 77 \n",
      "\n",
      "b) new snail_pos 81 \n",
      "\n",
      "c) adding days --> days = 4 \n",
      "\n",
      "a) start day snail_position 81 , accumulated days 4 \n",
      "\n",
      "daily_distance 44 \n",
      "\n",
      "b) new snail_pos 105 \n",
      "\n",
      "c) adding days --> days = 5 \n",
      "\n",
      "a) start day snail_position 105 , accumulated days 5 \n",
      "\n",
      "daily_distance 45 \n",
      "\n",
      "b) new snail_pos 150 \n",
      "\n",
      "c) adding days --> days = 6 \n",
      "\n"
     ]
    }
   ],
   "source": [
    "#Aqui solucionamos el problema anterior, dandonos cuenta de que en este caso, no es necesario utilizar el loop \n",
    "#while y nos vale unicamente con usar for loop e if statement. \n",
    "\n",
    "well_height = 125\n",
    "advance_cm = [30, 21, 33, 77, 44, 45, 23, 45, 12, 34, 55]\n",
    "nightly_distance = 20\n",
    "snail_position = 0\n",
    "days = 0\n",
    "\n",
    "for daily_distance in advance_cm:\n",
    "    print(\"a) start day snail_position\", snail_position, \", accumulated days\", days, \"\\n\")\n",
    "    if snail_position < 100:\n",
    "        print(\"daily_distance\", daily_distance, \"\\n\")\n",
    "        snail_position += daily_distance - nightly_distance\n",
    "        print(\"b) new snail_pos\", snail_position, \"\\n\")\n",
    "    else:\n",
    "        print(\"daily_distance\", daily_distance, \"\\n\")\n",
    "        snail_position += daily_distance\n",
    "        print(\"b) new snail_pos\", snail_position, \"\\n\")\n",
    "    days += 1\n",
    "    print(\"c) adding days --> days =\", days, \"\\n\")\n",
    "    if snail_position > well_height:\n",
    "        break"
   ]
  },
  {
   "cell_type": "code",
   "execution_count": 9,
   "metadata": {},
   "outputs": [
    {
     "name": "stdout",
     "output_type": "stream",
     "text": [
      "a) start day snail_position 0 , accumulated days 0 \n",
      "\n",
      "daily_distance 30 \n",
      "\n",
      "b) new snail_pos 10 \n",
      "\n",
      "c) adding days --> days = 1 \n",
      "\n",
      "a) start day snail_position 10 , accumulated days 1 \n",
      "\n",
      "daily_distance 21 \n",
      "\n",
      "b) new snail_pos 11 \n",
      "\n",
      "c) adding days --> days = 2 \n",
      "\n",
      "a) start day snail_position 11 , accumulated days 2 \n",
      "\n",
      "daily_distance 33 \n",
      "\n",
      "b) new snail_pos 24 \n",
      "\n",
      "c) adding days --> days = 3 \n",
      "\n",
      "a) start day snail_position 24 , accumulated days 3 \n",
      "\n",
      "daily_distance 77 \n",
      "\n",
      "b) new snail_pos 81 \n",
      "\n",
      "c) adding days --> days = 4 \n",
      "\n",
      "a) start day snail_position 81 , accumulated days 4 \n",
      "\n",
      "daily_distance 44 \n",
      "\n",
      "b) new snail_pos 105 \n",
      "\n",
      "c) adding days --> days = 5 \n",
      "\n",
      "a) start day snail_position 105 , accumulated days 5 \n",
      "\n",
      "daily_distance 45 \n",
      "\n",
      "b) new snail_pos 130 \n",
      "\n",
      "c) adding days --> days = 6 \n",
      "\n"
     ]
    }
   ],
   "source": [
    "#En esta ultima solucion vemos que nos hubiera bastado con poner un if statement que para que funcione el loop for\n",
    "#mientras que snail_position < well_height \n",
    "\n",
    "well_height = 125\n",
    "advance_cm = [30, 21, 33, 77, 44, 45, 23, 45, 12, 34, 55]\n",
    "nightly_distance = 20\n",
    "snail_position = 0\n",
    "days = 0\n",
    "\n",
    "for daily_distance in advance_cm:\n",
    "    if snail_position < well_height:\n",
    "        print(\"a) start day snail_position\", snail_position, \", accumulated days\", days, \"\\n\")\n",
    "        print(\"daily_distance\", daily_distance, \"\\n\")\n",
    "        snail_position += daily_distance - nightly_distance\n",
    "        print(\"b) new snail_pos\", snail_position, \"\\n\")\n",
    "        days += 1\n",
    "        print(\"c) adding days --> days =\", days, \"\\n\")"
   ]
  },
  {
   "cell_type": "markdown",
   "metadata": {},
   "source": [
    "#### 2. What is its maximum displacement in one day? And its minimum? Calculate the displacement using only the travel distance of the days used to get out of the well. \n",
    "**Hint**: Remember that displacement means the total distance risen taking into account that the snail slides at night.  "
   ]
  },
  {
   "cell_type": "code",
   "execution_count": 10,
   "metadata": {},
   "outputs": [
    {
     "name": "stdout",
     "output_type": "stream",
     "text": [
      "Max displacement 57\n",
      "Min displacement -8\n"
     ]
    }
   ],
   "source": [
    "#Como hemos visto, nightly_distance es un termino constante que no varía, por tanto en este caso valdría con hacer\n",
    "#max y min de nuestra lista y después restarle nightly_distance\n",
    "\n",
    "print(\"Max displacement\", max(advance_cm)-nightly_distance)\n",
    "print(\"Min displacement\", min(advance_cm)-nightly_distance)"
   ]
  },
  {
   "cell_type": "markdown",
   "metadata": {},
   "source": [
    "#### 3. What is its average progress? Take into account the snail slides at night."
   ]
  },
  {
   "cell_type": "code",
   "execution_count": 11,
   "metadata": {},
   "outputs": [
    {
     "data": {
      "text/plain": [
       "18.090909090909093"
      ]
     },
     "execution_count": 11,
     "metadata": {},
     "output_type": "execute_result"
    }
   ],
   "source": [
    "#En este punto podemos volver a realizar la misma opración que antes; calcular la media con los elementos originales\n",
    "#y luego, restarle nightly_distance, ya que como sabemos, la media es la suma de los elementos entre el conjunto de\n",
    "#estos\n",
    "\n",
    "#Numpy es un paquete que se usa mucho en python para operaciones matemáticas y matrices\n",
    "import numpy as np\n",
    "\n",
    "np.mean(advance_cm)-nightly_distance"
   ]
  },
  {
   "cell_type": "code",
   "execution_count": 12,
   "metadata": {},
   "outputs": [
    {
     "data": {
      "text/plain": [
       "18.09090909090909"
      ]
     },
     "execution_count": 12,
     "metadata": {},
     "output_type": "execute_result"
    }
   ],
   "source": [
    "#En este punto demostramos lo que decíamos en el anterior, no importa que hagamos la media de las distancias\n",
    "#recorridas diariamente y luego restemos nightly_distance, o que restemos nightly_distance a cada distancia\n",
    "#diaría y luego hagamos la media\n",
    "\n",
    "daily_advance = [] #Aquí creamos una lista vacía\n",
    "for advance in advance_cm: #Usamos for loop para acceder a cada elemento de la lista\n",
    "    daily_advance.append(advance - nightly_distance) #Añadimos a nuestra lista vacía la resta con la built-in \n",
    "    #function \"append\"\n",
    "np.mean(daily_advance) #Y usamos la media del paquete Numpy"
   ]
  },
  {
   "cell_type": "code",
   "execution_count": 13,
   "metadata": {},
   "outputs": [
    {
     "data": {
      "text/plain": [
       "18.09090909090909"
      ]
     },
     "execution_count": 13,
     "metadata": {},
     "output_type": "execute_result"
    }
   ],
   "source": [
    "#Este tipo de escritura se llama comprehension list (se considera también \"mas pythonic\")\n",
    "#Como vemos se trata de un for loop escrito en una linea y en casos en los que los for loops son cortos\n",
    "#es muy utilizado\n",
    "np.mean([advance - nightly_distance for advance in advance_cm])"
   ]
  },
  {
   "cell_type": "markdown",
   "metadata": {},
   "source": [
    "#### 4. What is the standard deviation of its displacement? Take into account the snail slides at night."
   ]
  },
  {
   "cell_type": "markdown",
   "metadata": {},
   "source": [
    "Variance formula: \n",
    "$$\\sigma^2 = \\frac{\\sum_{i=1}^{n}(x_i - \\mu)^2} {n}$$"
   ]
  },
  {
   "cell_type": "markdown",
   "metadata": {},
   "source": [
    "Standard Deviation formula: \n",
    "$$\\sigma = \\sqrt\\frac{\\sum_{i=1}^{n}(x_i - \\mu)^2} {n}$$"
   ]
  },
  {
   "cell_type": "code",
   "execution_count": 14,
   "metadata": {},
   "outputs": [
    {
     "data": {
      "text/plain": [
       "-2.840562917399197"
      ]
     },
     "execution_count": 14,
     "metadata": {},
     "output_type": "execute_result"
    }
   ],
   "source": [
    "#Como vemos en la formula escrita previamente y en el output de este resultado, no podemos calcular la \n",
    "#desviacion estandar y luego restarle nightly_distance\n",
    "np.std(advance_cm)-nightly_distance"
   ]
  },
  {
   "cell_type": "code",
   "execution_count": 15,
   "metadata": {},
   "outputs": [
    {
     "name": "stdout",
     "output_type": "stream",
     "text": [
      "daily_advance: [10, 1, 13, 57, 24, 25, 3, 25, -8, 14, 35]\n"
     ]
    },
    {
     "data": {
      "text/plain": [
       "17.159437082600803"
      ]
     },
     "execution_count": 15,
     "metadata": {},
     "output_type": "execute_result"
    }
   ],
   "source": [
    "#La solucion es hacer un for loop, pero como ya lo hicimos previamente, usaremos la variable \"daily_advance\"\n",
    "#que es la lista creada anteriormente donde se encuentran las distancia diarias menos nightly_distance\n",
    "print(\"daily_advance:\", daily_advance)\n",
    "np.std(daily_advance)"
   ]
  },
  {
   "cell_type": "code",
   "execution_count": 16,
   "metadata": {},
   "outputs": [
    {
     "data": {
      "text/plain": [
       "17.159437082600803"
      ]
     },
     "execution_count": 16,
     "metadata": {},
     "output_type": "execute_result"
    }
   ],
   "source": [
    "#También podríamos usar una comprehesion list como hicimos en el ejercicio anterior\n",
    "np.std([advance - nightly_distance for advance in advance_cm])"
   ]
  },
  {
   "cell_type": "code",
   "execution_count": 17,
   "metadata": {},
   "outputs": [
    {
     "data": {
      "text/plain": [
       "17.159437082600803"
      ]
     },
     "execution_count": 17,
     "metadata": {},
     "output_type": "execute_result"
    }
   ],
   "source": [
    "#O en este caso, hacer directamente la desviación estandar de advance_cm (la lista inicial sin restarle nightly_distance)\n",
    "#Por qué dan el mismo resultado? Porque nightly_distance, es un numero constante, y la varianza/std mide la distancia\n",
    "#entre cada punto y la media. Por lo que al restarle 30 unidades tanto a cada digito como a la media, hace que la \n",
    "#diferencia digito media no varíe\n",
    "np.std(advance_cm)"
   ]
  }
 ],
 "metadata": {
  "kernelspec": {
   "display_name": "Python 3",
   "language": "python",
   "name": "python3"
  },
  "language_info": {
   "codemirror_mode": {
    "name": "ipython",
    "version": 3
   },
   "file_extension": ".py",
   "mimetype": "text/x-python",
   "name": "python",
   "nbconvert_exporter": "python",
   "pygments_lexer": "ipython3",
   "version": "3.7.4"
  }
 },
 "nbformat": 4,
 "nbformat_minor": 2
}
