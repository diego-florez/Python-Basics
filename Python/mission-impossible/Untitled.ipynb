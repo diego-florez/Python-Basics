{
 "cells": [
  {
   "cell_type": "code",
   "execution_count": 6,
   "metadata": {},
   "outputs": [
    {
     "name": "stdout",
     "output_type": "stream",
     "text": [
      "(10, 0)\n"
     ]
    }
   ],
   "source": [
    "from math import sqrt\n",
    "\n",
    "positions = [(0, 0), (10, 0), (10, 10)]\n",
    "cur_pos = (9, 2)\n",
    "\n",
    "def euqli_dist(p, q, squared=False):\n",
    "    # Calculates the euclidean distance, the \"ordinary\" distance between two\n",
    "    # points\n",
    "    # \n",
    "    # The standard Euclidean distance can be squared in order to place\n",
    "    # progressively greater weight on objects that are farther apart. This\n",
    "    # frequently used in optimization problems in which distances only have\n",
    "    # to be compared.\n",
    "    if squared:\n",
    "        return ((p[0] - q[0]) ** 2) + ((p[1] - q[1]) ** 2)\n",
    "    else:\n",
    "        return sqrt(((p[0] - q[0]) ** 2) + ((p[1] - q[1]) ** 2))\n",
    "\n",
    "def closest(cur_pos, positions):\n",
    "    low_dist = float('inf')\n",
    "    closest_pos = None\n",
    "    for pos in positions:\n",
    "        dist = euqli_dist(cur_pos,pos)\n",
    "        if dist < low_dist:\n",
    "            low_dist = dist\n",
    "            closest_pos = pos\n",
    "    return closest_pos\n",
    "\n",
    "print(closest(cur_pos, positions))\n"
   ]
  }
 ],
 "metadata": {
  "kernelspec": {
   "display_name": "Python 3",
   "language": "python",
   "name": "python3"
  },
  "language_info": {
   "codemirror_mode": {
    "name": "ipython",
    "version": 3
   },
   "file_extension": ".py",
   "mimetype": "text/x-python",
   "name": "python",
   "nbconvert_exporter": "python",
   "pygments_lexer": "ipython3",
   "version": "3.7.4"
  }
 },
 "nbformat": 4,
 "nbformat_minor": 2
}
