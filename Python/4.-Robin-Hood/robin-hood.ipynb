{
 "cells": [
  {
   "cell_type": "markdown",
   "metadata": {},
   "source": [
    "<img src=\"https://bit.ly/2VnXWr2\" width=\"100\" align=\"left\"/>"
   ]
  },
  {
   "cell_type": "markdown",
   "metadata": {},
   "source": [
    "# Robin Hood\n",
    "Robin Hood has entered a competition to win the archery contest in Sherwood. With his bow and arrows, he needs to shoot on a target and try to hit as close as possible to the center.\n",
    "\n",
    "![](images/arrows.jpg)\n",
    "\n",
    "## Context\n",
    "In this challenge, the landing position of arrows shot by archers in the competition will be represented using 2-dimensional coordinates. \n",
    "\n",
    "In the 2-dimensional space, a point can be defined by a pair of values that correspond to the horizontal coordinate (x) and the vertical coordinate (y). For example, in our case, an arrow that hits the center of the archery target will land in position (0, 0) on the coordinate axes. \n",
    "\n",
    "The space can be divided into 4 zones (quadrants): Q1, Q2, Q3, Q4. If a point is in Q1, both its x coordinate and y coordinate are positive. Any point with a null x or y coordinate is considered to not belong to any quadrant. \n",
    "\n",
    "If you want to know more about the cartesian coordinate system, you can check this [link](https://en.wikipedia.org/wiki/Cartesian_coordinate_system). \n",
    "\n",
    "## Tools\n",
    "You don't necessarily need to use all the tools. Maybe you opt to use some of them or completely different ones, they are given to help you shape the exercise. Programming exercises can be solved in many different ways.\n",
    "* Data structures: **lists, sets, tuples**\n",
    "* Conditional statements: **if-elif-else**\n",
    "* Loop: **while/for**\n",
    "* Minimum (optional sorting)\n",
    "\n",
    "## Tasks\n",
    "Robin Hood has hit the following points:"
   ]
  },
  {
   "cell_type": "code",
   "execution_count": 1,
   "metadata": {},
   "outputs": [],
   "source": [
    "points = [(4, 5), (-0, 2), (4, 7), (1, -3), (3, -2), (4, 5), (3, 2), (5, 7), (-5, 7), (2, 2), (-4, 5), (0, -2),\n",
    "          (-4, 7), (-1, 3), (-3, 2), (-4, -5), (-3, 2), (5, 7), (5, 7), (2, 2), (9, 9), (-8, -9)]"
   ]
  },
  {
   "cell_type": "markdown",
   "metadata": {},
   "source": [
    "#### 1. Robin Hood is famous for hitting an arrow with another arrow. Find the coordinates of the points where an arrow hits another arrow."
   ]
  },
  {
   "cell_type": "code",
   "execution_count": 2,
   "metadata": {},
   "outputs": [
    {
     "name": "stdout",
     "output_type": "stream",
     "text": [
      "0 (4, 5)\n",
      "1 (0, 2)\n",
      "2 (4, 7)\n",
      "3 (1, -3)\n",
      "4 (3, -2)\n",
      "5 (4, 5) repeated\n",
      "6 (3, 2)\n",
      "7 (5, 7)\n",
      "8 (-5, 7)\n",
      "9 (2, 2)\n",
      "10 (-4, 5)\n",
      "11 (0, -2)\n",
      "12 (-4, 7)\n",
      "13 (-1, 3)\n",
      "14 (-3, 2)\n",
      "15 (-4, -5)\n",
      "16 (-3, 2) repeated\n",
      "17 (5, 7) repeated\n",
      "18 (5, 7) repeated\n",
      "19 (2, 2) repeated\n",
      "20 (9, 9)\n",
      "21 (-8, -9)\n"
     ]
    },
    {
     "data": {
      "text/plain": [
       "[(4, 5), (-3, 2), (5, 7), (5, 7), (2, 2)]"
      ]
     },
     "execution_count": 2,
     "metadata": {},
     "output_type": "execute_result"
    }
   ],
   "source": [
    "#Nos piden que encontremos los tuples que se repiten en la lista.\n",
    "#Para hacerlo crearemos una lista vacia, donde almacenaremos los valores repetidos, y emepzaremos a iterar en la\n",
    "#lista original.\n",
    "\n",
    "#En este caso, la built in function enumerate, nos sirve justo para lo que queremos; comprobar si el valor esta \n",
    "#en la lista del principio al valor que estemos iterando, sin contar este último.\n",
    "\n",
    "#Así, comprobando si p, esta del punto 0 al punto p-1, podemos ver ver si esta repetido y añadirlo a nuestra\n",
    "#nueva lista\n",
    "repeated = []\n",
    "for i, p in enumerate(points):\n",
    "    if p in points[:i]:\n",
    "        print(i, p, \"repeated\")\n",
    "        repeated.append(p)\n",
    "    else:\n",
    "        print(i, p)   \n",
    "    \n",
    "repeated"
   ]
  },
  {
   "cell_type": "markdown",
   "metadata": {},
   "source": [
    "#### 2. Calculate how many arrows have fallen in each quadrant. \n",
    "**Note**: the arrows that fall in the axis (x=0 or y=0) don't belong to any quadrant."
   ]
  },
  {
   "cell_type": "code",
   "execution_count": 3,
   "metadata": {
    "scrolled": false
   },
   "outputs": [
    {
     "name": "stdout",
     "output_type": "stream",
     "text": [
      "Q1 4 5\n",
      "Q1 4 7\n",
      "Q2 1 -3\n",
      "Q2 3 -2\n",
      "Q1 4 5\n",
      "Q1 3 2\n",
      "Q1 5 7\n",
      "Q4 -5 7\n",
      "Q1 2 2\n",
      "Q4 -4 5\n",
      "Q4 -4 7\n",
      "Q4 -1 3\n",
      "Q4 -3 2\n",
      "Q3 -4 -5\n",
      "Q4 -3 2\n",
      "Q1 5 7\n",
      "Q1 5 7\n",
      "Q1 2 2\n",
      "Q1 9 9\n",
      "Q3 -8 -9\n"
     ]
    },
    {
     "data": {
      "text/plain": [
       "(10, 2, 2, 6)"
      ]
     },
     "execution_count": 3,
     "metadata": {},
     "output_type": "execute_result"
    }
   ],
   "source": [
    "#Nos piden que contemos cuantos valores hay en cada cuadrante del eje x, y teniendo en cuenta también los valores\n",
    "#negativos\n",
    "\n",
    "#Por tanto primero creamos nuestro contadores en 0\n",
    "Q1 = 0\n",
    "Q2 = 0\n",
    "Q3 = 0\n",
    "Q4 = 0\n",
    "\n",
    "#Y segundo iteramos nuestra lista de tuples comprobando cada x e y, y viendo con diferentes if statement\n",
    "#en cuandrante entran\n",
    "for x, y in points:\n",
    "    if x > 0 and y > 0:\n",
    "        print(\"Q1\", x, y)\n",
    "        Q1 += 1\n",
    "    elif x > 0 and y < 0:\n",
    "        print(\"Q2\", x, y)\n",
    "        Q2 += 1\n",
    "    elif x < 0 and y < 0:\n",
    "        print(\"Q3\", x, y)\n",
    "        Q3 += 1\n",
    "    elif x < 0 and y > 0:\n",
    "        print(\"Q4\", x, y)\n",
    "        Q4 += 1\n",
    "        \n",
    "Q1, Q2, Q3, Q4"
   ]
  },
  {
   "cell_type": "code",
   "execution_count": 4,
   "metadata": {},
   "outputs": [
    {
     "name": "stdout",
     "output_type": "stream",
     "text": [
      "Q1 4 5\n",
      "Q1 4 7\n",
      "Q2 1 -3\n",
      "Q2 3 -2\n",
      "Q1 4 5\n",
      "Q1 3 2\n",
      "Q1 5 7\n",
      "Q4 -5 7\n",
      "Q1 2 2\n",
      "Q4 -4 5\n",
      "Q4 -4 7\n",
      "Q4 -1 3\n",
      "Q4 -3 2\n",
      "Q3 -4 -5\n",
      "Q4 -3 2\n",
      "Q1 5 7\n",
      "Q1 5 7\n",
      "Q1 2 2\n",
      "Q1 9 9\n",
      "Q3 -8 -9\n"
     ]
    },
    {
     "data": {
      "text/plain": [
       "(10, 2, 2, 6)"
      ]
     },
     "execution_count": 4,
     "metadata": {},
     "output_type": "execute_result"
    }
   ],
   "source": [
    "Q1 = 0\n",
    "Q2 = 0\n",
    "Q3 = 0\n",
    "Q4 = 0\n",
    "\n",
    "#Esta segunda opción es solo para mostrar que podemos acceder también a los dos puntos de cada tuple como si\n",
    "#fueran mini-listas de 2 \n",
    "for p in points:\n",
    "    if p[0] > 0 and p[1] > 0:\n",
    "        print(\"Q1\", p[0], p[1])\n",
    "        Q1 += 1\n",
    "    elif p[0] > 0 and p[1] < 0:\n",
    "        print(\"Q2\", p[0], p[1])\n",
    "        Q2 += 1\n",
    "    elif p[0] < 0 and p[1] < 0:\n",
    "        print(\"Q3\", p[0], p[1])\n",
    "        Q3 += 1\n",
    "    elif p[0] < 0 and p[1] > 0:\n",
    "        print(\"Q4\", p[0], p[1])\n",
    "        Q4 += 1\n",
    "        \n",
    "Q1, Q2, Q3, Q4"
   ]
  },
  {
   "cell_type": "markdown",
   "metadata": {},
   "source": [
    "#### 3. Find the point closest to the center. Calculate its distance to the center. \n",
    "Take into account that there might be more than one point at the minimum distance to the center.\n",
    "\n",
    "**Hint**: Use the Euclidean distance. You can find more information about it [here](https://en.wikipedia.org/wiki/Euclidean_distance).  \n",
    "**Hint**: Defining a function that calculates the distance to the center can help."
   ]
  },
  {
   "cell_type": "markdown",
   "metadata": {},
   "source": [
    "**Distancia Euclidea**:\n",
    "$${\\displaystyle d(p,q)={\\sqrt {(p_{1}-q_{1})^{2}+(p_{2}-q_{2})^{2}}}.}$$"
   ]
  },
  {
   "cell_type": "code",
   "execution_count": 5,
   "metadata": {},
   "outputs": [],
   "source": [
    "#Nos dicen que calculemos la distencia minima (de entre todos los puntos) al centro del eje (x, y), \n",
    "#esto es el punto (0, 0), y nos ayudan diciendo que usemos la formula de la distancia euclidea.\n",
    "\n",
    "#Vamos paso por paso:\n",
    "#1. Viendo a ojo el punto mas cercano al punto (0, 0) son los puntos (0, 2) y (0, -2) (lo vemos en la siguiente gráfica)\n",
    "#2. Nos dan una formula (la distancia euclidea) que es una funcion, y ademas nos dicen que ayudaría hacer una\n",
    "#3. Las funciones se usan en Python sobre todo para no tener que estar repitiendo código constantemente. En este caso\n",
    "#tenemos que calcular la distancia entre cada punto de la lista points y el punto (0, 0)\n",
    "\n",
    "#En definitiva lo mejor es hacer una función\n",
    "\n",
    "import numpy as np\n",
    "\n",
    "#En python las funciones siempre tienen 4 puntos y 1 casi siempre:\n",
    "#1. \"def\"\n",
    "#2. un nombre, en este caso \"euc_distance\"\n",
    "#3. los parentesis \"()\", que pueden estar vacios (sin input) o llenos (con input), como en este caso\n",
    "#4. dos puntos, \":\"\n",
    "\n",
    "#1. \"return\" hace que la función devuelva algo, no siempre se usa, pero casi siempre\n",
    "\n",
    "#En este caso a la función le metemos 4 inputs (nuestras coordenadas) y devuelve la formula\n",
    "def euc_distance(x1, x2, y1, y2):\n",
    "    return np.sqrt((x1-x2)**2+(y1-y2)**2)"
   ]
  },
  {
   "cell_type": "markdown",
   "metadata": {},
   "source": [
    "#### Usamos la siguiente gráfica para ilustrar estos problemas"
   ]
  },
  {
   "cell_type": "code",
   "execution_count": 16,
   "metadata": {
    "scrolled": false
   },
   "outputs": [
    {
     "data": {
      "image/png": "[encoded data removed]",
      "text/plain": [
       "<Figure size 504x504 with 1 Axes>"
      ]
     },
     "metadata": {
      "needs_background": "light"
     },
     "output_type": "display_data"
    }
   ],
   "source": [
    "import matplotlib.pyplot as plt\n",
    "\n",
    "#code to generate a circumference\n",
    "x = np.linspace(-2.1, 2.1, 10)\n",
    "y = np.linspace(-2.1, 2.1, 10)\n",
    "X, Y = np.meshgrid(x,y)\n",
    "F = X**2 + Y**2 - 0.6\n",
    "\n",
    "f, ax = plt.subplots(1, 1, figsize=(7, 7))\n",
    "\n",
    "for x, y in points:\n",
    "    ax.scatter(x, y)\n",
    "    plt.annotate((x, y), # this is the text\n",
    "                 (x, y), # this is the point to label\n",
    "                 textcoords=\"offset points\", # how to position the text\n",
    "                 xytext=(0, 10), # distance from text to points (x,y)\n",
    "                 ha='center') # horizontal alignment can be left, right or center\n",
    "\n",
    "ax.plot(np.linspace(0, 10, 9, dtype=int), np.linspace(0, 0, 9, dtype=int), c=\"b\")\n",
    "ax.plot(np.linspace(0, -10, 9, dtype=int), np.linspace(0, 0, 9, dtype=int), linestyle='dashed', c=\"b\")\n",
    "ax.plot(np.linspace(0, 0, 9, dtype=int), np.linspace(0, 10, 9, dtype=int), c=\"b\")\n",
    "ax.plot(np.linspace(0, 0, 9, dtype=int), np.linspace(0, -10, 9, dtype=int), linestyle='dashed', c=\"b\")\n",
    "\n",
    "#Rise or decrease the number to change circumference size\n",
    "ax.contour(X,Y,F,[4])\n",
    "ax.set_ylabel(\"Y values\")\n",
    "ax.set_xlabel(\"X values\")\n",
    "plt.show()"
   ]
  },
  {
   "cell_type": "code",
   "execution_count": 7,
   "metadata": {},
   "outputs": [
    {
     "name": "stdout",
     "output_type": "stream",
     "text": [
      "(4, 5) 6.4031242374328485\n",
      "(0, 2) 2.0\n",
      "(4, 7) 8.06225774829855\n",
      "(1, -3) 3.1622776601683795\n",
      "(3, -2) 3.605551275463989\n",
      "(4, 5) 6.4031242374328485\n",
      "(3, 2) 3.605551275463989\n",
      "(5, 7) 8.602325267042627\n",
      "(-5, 7) 8.602325267042627\n",
      "(2, 2) 2.8284271247461903\n",
      "(-4, 5) 6.4031242374328485\n",
      "(0, -2) 2.0\n",
      "(-4, 7) 8.06225774829855\n",
      "(-1, 3) 3.1622776601683795\n",
      "(-3, 2) 3.605551275463989\n",
      "(-4, -5) 6.4031242374328485\n",
      "(-3, 2) 3.605551275463989\n",
      "(5, 7) 8.602325267042627\n",
      "(5, 7) 8.602325267042627\n",
      "(2, 2) 2.8284271247461903\n",
      "(9, 9) 12.727922061357855\n",
      "(-8, -9) 12.041594578792296\n"
     ]
    }
   ],
   "source": [
    "#Como vemos nuestro output de este problema deberían ser los puntos (0, 2) y (0, -2)\n",
    "#Lo primero que tenemos que hacer es iterar la lista y meter las coordenadas, es decir, (x, y) de cada punto en\n",
    "#nuestra función\n",
    "#Que recogeremos en una variable interna llamada \"distances\"\n",
    "#Una vez tenemos cada distancia, las almacenamos en un diccionario con sus respectivas coordenadas como keys\n",
    "distance_points = {}\n",
    "\n",
    "for x, y in points:\n",
    "    distances = euc_distance(0, x, 0, y)\n",
    "    print((x, y), distances)\n",
    "    distance_points[(x,y)] = distances"
   ]
  },
  {
   "cell_type": "code",
   "execution_count": 8,
   "metadata": {},
   "outputs": [
    {
     "name": "stdout",
     "output_type": "stream",
     "text": [
      "(4, 5) 6.4031242374328485\n",
      "(0, 2) 2.0\n",
      "(4, 7) 8.06225774829855\n",
      "(1, -3) 3.1622776601683795\n",
      "(3, -2) 3.605551275463989\n",
      "(4, 5) 6.4031242374328485\n",
      "(3, 2) 3.605551275463989\n",
      "(5, 7) 8.602325267042627\n",
      "(-5, 7) 8.602325267042627\n",
      "(2, 2) 2.8284271247461903\n",
      "(-4, 5) 6.4031242374328485\n",
      "(0, -2) 2.0\n",
      "(-4, 7) 8.06225774829855\n",
      "(-1, 3) 3.1622776601683795\n",
      "(-3, 2) 3.605551275463989\n",
      "(-4, -5) 6.4031242374328485\n",
      "(-3, 2) 3.605551275463989\n",
      "(5, 7) 8.602325267042627\n",
      "(5, 7) 8.602325267042627\n",
      "(2, 2) 2.8284271247461903\n",
      "(9, 9) 12.727922061357855\n",
      "(-8, -9) 12.041594578792296\n"
     ]
    }
   ],
   "source": [
    "#Lo mismo que antes, para ver que se puede acceder a ambos digitos del tuple y ademas aqui es incluso mas comodo\n",
    "#a la hora de crear las keys del diccionario\n",
    "distance_points = {}\n",
    "\n",
    "for p in points:\n",
    "    print(p, euc_distance(0, p[0], 0, p[1]))\n",
    "    distances = euc_distance(0, p[0], 0, p[1])\n",
    "    distance_points[p] = distances"
   ]
  },
  {
   "cell_type": "code",
   "execution_count": 9,
   "metadata": {},
   "outputs": [
    {
     "name": "stdout",
     "output_type": "stream",
     "text": [
      "Point: (0, 2) , Distance: 2.0\n",
      "Point: (0, -2) , Distance: 2.0\n"
     ]
    }
   ],
   "source": [
    "#Ahora llega el punto mas dificil, cómo accedemos a las keys que tienen el valor (la distancia al punto 0,0) mas bajo?\n",
    "\n",
    "#Primero accedemos a los valores, con el built in method de los diccionarios \"values()\" y los convertimos en\n",
    "#una lista para obtener el valor mínimo\n",
    "min_d = min(list(distance_points.values()))\n",
    "\n",
    "#Una vez tenemos el valor mínimo solo tenemos que iterar por las keys y values del diccionario con la built in\n",
    "#function de los diccionarios (items()) y extraer las keys cuando el value sea igual al min_value calculado \n",
    "#previamente\n",
    "for k, v in distance_points.items():\n",
    "    if v == min_d:\n",
    "        print(\"Point:\", k, \", Distance:\", min_d)"
   ]
  },
  {
   "cell_type": "markdown",
   "metadata": {},
   "source": [
    "#### Con sorted"
   ]
  },
  {
   "cell_type": "code",
   "execution_count": 10,
   "metadata": {
    "scrolled": false
   },
   "outputs": [
    {
     "data": {
      "text/plain": [
       "[(0, 2),\n",
       " (0, -2),\n",
       " (2, 2),\n",
       " (2, 2),\n",
       " (1, -3),\n",
       " (-1, 3),\n",
       " (3, -2),\n",
       " (3, 2),\n",
       " (-3, 2),\n",
       " (-3, 2),\n",
       " (4, 5),\n",
       " (4, 5),\n",
       " (-4, 5),\n",
       " (-4, -5),\n",
       " (4, 7),\n",
       " (-4, 7),\n",
       " (5, 7),\n",
       " (-5, 7),\n",
       " (5, 7),\n",
       " (5, 7),\n",
       " (-8, -9),\n",
       " (9, 9)]"
      ]
     },
     "execution_count": 10,
     "metadata": {},
     "output_type": "execute_result"
    }
   ],
   "source": [
    "#como vemos sorted ordena una lista basado en algo, en este caso, ese algo es nuestra funcion euc_distance\n",
    "\n",
    "sorted(points, key=lambda p: np.sqrt((0-p[0])**2+(0-p[1])**2))"
   ]
  },
  {
   "cell_type": "code",
   "execution_count": 11,
   "metadata": {},
   "outputs": [
    {
     "data": {
      "text/plain": [
       "[(0, 2), (0, -2)]"
      ]
     },
     "execution_count": 11,
     "metadata": {},
     "output_type": "execute_result"
    }
   ],
   "source": [
    "#aquí hacemos lo mismo usando la función y sacando los dos primeros puntos\n",
    "\n",
    "sorted(points, key=lambda p: euc_distance(0, p[0], 0, p[1]))[:2]"
   ]
  },
  {
   "cell_type": "markdown",
   "metadata": {},
   "source": [
    "#### 4. If the archery target has a radius of 9, calculate the number of arrows that won't hit the target. \n",
    "**Hint**: Use the function created in step 3. "
   ]
  },
  {
   "cell_type": "code",
   "execution_count": 12,
   "metadata": {},
   "outputs": [
    {
     "name": "stdout",
     "output_type": "stream",
     "text": [
      "Point: (9, 9)\n",
      "Point: (-8, -9)\n",
      "The points out of the target: (9, 9) (-8, -9)\n",
      "Number of arrows not hitting the target: 2\n"
     ]
    }
   ],
   "source": [
    "#Al no haber ningún punto que supere el 9, ni en x ni en y, suponemos que nuestro radio va de 0-8. Es decir como si\n",
    "#usasemos la funcion range(0, 9), donde el 9 no se incluye, pero en un plan0 de 2 dimensiones (valores positivos \n",
    "#y negativos). Por tanto cualquier punto que incluya 9 o -9 estara fuera del target\n",
    "\n",
    "#Como lo haremos? El loop que hemos hecho previamente y el diccionario que hemos creado nos ayudaran a resolver\n",
    "#este problema precticamente igual que el anterior, solo que esta vez nos vale con usar las keys\n",
    "out_target = []\n",
    "for k in distance_points.keys():\n",
    "    if k[0] == 9 or k[1] == 9 or k[0] == -9 or k[1] == -9:\n",
    "        print(\"Point:\", k)\n",
    "        out_target.append(k)\n",
    "        \n",
    "print(\"The points out of the target:\", (*out_target))\n",
    "print(\"Number of arrows not hitting the target:\", len(out_target))"
   ]
  },
  {
   "cell_type": "code",
   "execution_count": 13,
   "metadata": {},
   "outputs": [
    {
     "data": {
      "image/png": "[encoded data removed]",
      "text/plain": [
       "<Figure size 504x504 with 1 Axes>"
      ]
     },
     "metadata": {
      "needs_background": "light"
     },
     "output_type": "display_data"
    }
   ],
   "source": [
    "import matplotlib.pyplot as plt\n",
    "\n",
    "#code to generate a circumference\n",
    "x = np.linspace(-8.9, 8.9, 10)\n",
    "y = np.linspace(-8.9, 8.9, 10)\n",
    "X, Y = np.meshgrid(x,y)\n",
    "F = X**2 + Y**2 - 0.6\n",
    "\n",
    "f, ax = plt.subplots(1, 1, figsize=(7, 7))\n",
    "\n",
    "for x, y in points:\n",
    "    ax.scatter(x, y)\n",
    "    plt.annotate((x, y), # this is the text\n",
    "                 (x, y), # this is the point to label\n",
    "                 textcoords=\"offset points\", # how to position the text\n",
    "                 xytext=(0, 10), # distance from text to points (x,y)\n",
    "                 ha='center') # horizontal alignment can be left, right or center\n",
    "\n",
    "ax.plot(np.linspace(0, 10, 9, dtype=int), np.linspace(0, 0, 9, dtype=int), c=\"b\")\n",
    "ax.plot(np.linspace(0, -10, 9, dtype=int), np.linspace(0, 0, 9, dtype=int), linestyle='dashed', c=\"b\")\n",
    "ax.plot(np.linspace(0, 0, 9, dtype=int), np.linspace(0, 10, 9, dtype=int), c=\"b\")\n",
    "ax.plot(np.linspace(0, 0, 9, dtype=int), np.linspace(0, -10, 9, dtype=int), linestyle='dashed', c=\"b\")\n",
    "\n",
    "#Rise or decrease the number to change circumference size\n",
    "ax.contour(X,Y,F,[100])\n",
    "ax.set_ylabel(\"Y values\")\n",
    "ax.set_xlabel(\"X values\")\n",
    "plt.show()"
   ]
  }
 ],
 "metadata": {
  "kernelspec": {
   "display_name": "Python 3",
   "language": "python",
   "name": "python3"
  },
  "language_info": {
   "codemirror_mode": {
    "name": "ipython",
    "version": 3
   },
   "file_extension": ".py",
   "mimetype": "text/x-python",
   "name": "python",
   "nbconvert_exporter": "python",
   "pygments_lexer": "ipython3",
   "version": "3.7.4"
  }
 },
 "nbformat": 4,
 "nbformat_minor": 2
}
