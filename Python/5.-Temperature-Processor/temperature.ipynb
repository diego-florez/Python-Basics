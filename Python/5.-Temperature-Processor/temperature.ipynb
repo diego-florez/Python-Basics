{
 "cells": [
  {
   "cell_type": "markdown",
   "metadata": {},
   "source": [
    "<img src=\"https://bit.ly/2VnXWr2\" width=\"100\" align=\"left\">"
   ]
  },
  {
   "cell_type": "markdown",
   "metadata": {},
   "source": [
    "# Temperature Sensor\n",
    "\n",
    "There is a temperature sensor in the processor of your company's server. The company wants to analyze the data provided by the sensor to decide if they should change the cooling system for a better one. As changing the cooling system is expensive and you are an excellent data analyst, you can't make a decision without basis.\n",
    "\n",
    "## Tools\n",
    "You don't necessarily need to use all the tools. Maybe you opt to use some of them or completely different ones, they are given to help you shape the exercise. Programming exercises can be solved in many different ways.\n",
    "1. Data structures: **lists**\n",
    "2. Loops: **list comprehension**\n",
    "3. Functions: **min, max, print, len**\n",
    "4. Conditional statements: **if-elif-else**\n",
    "\n",
    "## Tasks\n",
    "The temperatures measured throughout the 24 hours of a day are:"
   ]
  },
  {
   "cell_type": "code",
   "execution_count": 1,
   "metadata": {},
   "outputs": [],
   "source": [
    "temperatures_C = [33, 66, 65, 0, 59, 60, 62, 64, 70, 76, 80, 81, 80, 83, 90, 79, 61, 53, 50, 49, 53, 48, 45, 39]"
   ]
  },
  {
   "cell_type": "markdown",
   "metadata": {},
   "source": [
    "The first element of the list is the temperature at 12am, the second element is the temperature at 1am, and so on. \n",
    "\n",
    "The company has decided that if one of the following events occurs, then the cooling system needs to be replaced for a new one to avoid damaging the processor.\n",
    "* More than 4 temperatures are greater than or equal to 70ºC.\n",
    "* Any temperature is above 80ºC.\n",
    "* The average temperature exceeds 65ºC.\n",
    "\n",
    "Follow the steps so that you can make the decision.\n",
    "\n",
    "#### 1. Find the minimum temperature of the day and store it in a variable."
   ]
  },
  {
   "cell_type": "code",
   "execution_count": 2,
   "metadata": {},
   "outputs": [
    {
     "name": "stdout",
     "output_type": "stream",
     "text": [
      "0\n"
     ]
    }
   ],
   "source": [
    "print(min(temperatures_C))"
   ]
  },
  {
   "cell_type": "markdown",
   "metadata": {},
   "source": [
    "#### 2. Find the maximum temperature of the day and store it in a variable."
   ]
  },
  {
   "cell_type": "code",
   "execution_count": 3,
   "metadata": {},
   "outputs": [
    {
     "name": "stdout",
     "output_type": "stream",
     "text": [
      "90\n"
     ]
    }
   ],
   "source": [
    "print(max(temperatures_C))"
   ]
  },
  {
   "cell_type": "markdown",
   "metadata": {},
   "source": [
    "#### 3. Create a list with the temperatures that are greater than or equal to 70ºC. Store it in a variable."
   ]
  },
  {
   "cell_type": "code",
   "execution_count": 4,
   "metadata": {},
   "outputs": [
    {
     "data": {
      "text/plain": [
       "[70, 76, 80, 81, 80, 83, 90, 79]"
      ]
     },
     "execution_count": 4,
     "metadata": {},
     "output_type": "execute_result"
    }
   ],
   "source": [
    "big_temperatures = [t for t in temperatures_C if t >= 70]\n",
    "big_temperatures"
   ]
  },
  {
   "cell_type": "markdown",
   "metadata": {},
   "source": [
    "#### 4. Find the average temperature of the day and store it in a variable."
   ]
  },
  {
   "cell_type": "code",
   "execution_count": 5,
   "metadata": {},
   "outputs": [
    {
     "name": "stdout",
     "output_type": "stream",
     "text": [
      "60.25\n"
     ]
    }
   ],
   "source": [
    "import numpy as np\n",
    "\n",
    "avg_temperature = np.mean(temperatures_C)\n",
    "print(avg_temperature)"
   ]
  },
  {
   "cell_type": "markdown",
   "metadata": {},
   "source": [
    "#### 5. Imagine that there was a sensor failure at 3am and the data for that specific hour was not recorded. How would you estimate the missing value? Replace the current value of the list at 3am for an estimation. "
   ]
  },
  {
   "cell_type": "code",
   "execution_count": 6,
   "metadata": {
    "scrolled": false
   },
   "outputs": [
    {
     "name": "stdout",
     "output_type": "stream",
     "text": [
      "Index: 0 , Hour: 00am , Temperature: 33\n",
      "Index: 1 , Hour: 01am , Temperature: 66\n",
      "Index: 2 , Hour: 02am , Temperature: 65\n",
      "Index: 3 , Hour: 03am , Temperature: 0\n",
      "Not recorded Temperature 0 at time: 03am\n",
      "Index: 4 , Hour: 04am , Temperature: 59\n",
      "Index: 5 , Hour: 05am , Temperature: 60\n",
      "Index: 6 , Hour: 06am , Temperature: 62\n",
      "Index: 7 , Hour: 07am , Temperature: 64\n",
      "Index: 8 , Hour: 08am , Temperature: 70\n",
      "Index: 9 , Hour: 09am , Temperature: 76\n",
      "Index: 10 , Hour: 10am , Temperature: 80\n",
      "Index: 11 , Hour: 11am , Temperature: 81\n",
      "Index: 12 , Hour: 13pm , Temperature: 80\n",
      "Index: 13 , Hour: 14pm , Temperature: 83\n",
      "Index: 14 , Hour: 15pm , Temperature: 90\n",
      "Index: 15 , Hour: 16pm , Temperature: 79\n",
      "Index: 16 , Hour: 17pm , Temperature: 61\n",
      "Index: 17 , Hour: 18pm , Temperature: 53\n",
      "Index: 18 , Hour: 19pm , Temperature: 50\n",
      "Index: 19 , Hour: 20pm , Temperature: 49\n",
      "Index: 20 , Hour: 21pm , Temperature: 53\n",
      "Index: 21 , Hour: 22pm , Temperature: 48\n",
      "Index: 22 , Hour: 23pm , Temperature: 45\n",
      "Index: 23 , Hour: 24pm , Temperature: 39\n"
     ]
    },
    {
     "data": {
      "text/plain": [
       "[33,\n",
       " 66,\n",
       " 65,\n",
       " 60.25,\n",
       " 59,\n",
       " 60,\n",
       " 62,\n",
       " 64,\n",
       " 70,\n",
       " 76,\n",
       " 80,\n",
       " 81,\n",
       " 80,\n",
       " 83,\n",
       " 90,\n",
       " 79,\n",
       " 61,\n",
       " 53,\n",
       " 50,\n",
       " 49,\n",
       " 53,\n",
       " 48,\n",
       " 45,\n",
       " 39]"
      ]
     },
     "execution_count": 6,
     "metadata": {},
     "output_type": "execute_result"
    }
   ],
   "source": [
    "hrs = [\"0\"+str(h)+\"am\" if len(str(h))<2 else str(h)+\"am\" for h in range(0, 12)]+[str(h)+\"pm\" for h in range(13, 25)]\n",
    "\n",
    "for i, h, t in zip(range(len(temperatures_C)), hrs, temperatures_C):\n",
    "    print(\"Index:\", i, \", Hour:\", h, \", Temperature:\", t)\n",
    "    if h == \"03am\":\n",
    "        print(\"Not recorded Temperature\", t, \"at time:\", h)\n",
    "        temperatures_C[i] = avg_temperature\n",
    "        \n",
    "temperatures_C"
   ]
  },
  {
   "cell_type": "markdown",
   "metadata": {},
   "source": [
    "#### 6. Bonus: the maintenance staff is from the United States and does not understand the international metric system. Help them by converting the temperatures from Celsius to Fahrenheit.\n",
    "To know more about temperature conversion check this [link](https://en.wikipedia.org/wiki/Conversion_of_units_of_temperature).\n",
    "\n",
    "**Formula**: \n",
    "\n",
    "$F = 1.8 * C + 32$"
   ]
  },
  {
   "cell_type": "code",
   "execution_count": 7,
   "metadata": {},
   "outputs": [
    {
     "data": {
      "text/plain": [
       "[91.4,\n",
       " 150.8,\n",
       " 149.0,\n",
       " 140.45,\n",
       " 138.2,\n",
       " 140.0,\n",
       " 143.60000000000002,\n",
       " 147.2,\n",
       " 158.0,\n",
       " 168.8,\n",
       " 176.0,\n",
       " 177.8,\n",
       " 176.0,\n",
       " 181.4,\n",
       " 194.0,\n",
       " 174.20000000000002,\n",
       " 141.8,\n",
       " 127.4,\n",
       " 122.0,\n",
       " 120.2,\n",
       " 127.4,\n",
       " 118.4,\n",
       " 113.0,\n",
       " 102.2]"
      ]
     },
     "execution_count": 7,
     "metadata": {},
     "output_type": "execute_result"
    }
   ],
   "source": [
    "f_temps = [1.8*t+32 for t in temperatures_C]\n",
    "f_temps"
   ]
  },
  {
   "cell_type": "markdown",
   "metadata": {},
   "source": [
    "#### 7. Make a decision!\n",
    "Now it's time to make a decision taking into account what you have seen until now. \n",
    "\n",
    "Remember that if one of the following events occurs, then the cooling system needs to be replaced for a new one to avoid damaging the processor.\n",
    "* More than 4 temperatures are greater than or equal to 70ºC.\n",
    "* Any temperature is above 80ºC.\n",
    "* The average temperature exceeds 65ºC.\n",
    "\n",
    "#### To make your decision, check if any of the three conditions above is met. You might need to use some of the variables you created in steps 1 to 6. Print a message to show if the cooling system needs to be changed or not."
   ]
  },
  {
   "cell_type": "code",
   "execution_count": 8,
   "metadata": {},
   "outputs": [
    {
     "name": "stdout",
     "output_type": "stream",
     "text": [
      "62.760416666666664 60.25 \n",
      "\n",
      "Cooling system needs to be replaced\n"
     ]
    }
   ],
   "source": [
    "#We have to compute again the mean, as we have change one value\n",
    "new_avg_temperature = np.mean(temperatures_C)\n",
    "print(new_avg_temperature, avg_temperature, \"\\n\")\n",
    "\n",
    "if len(big_temperatures) > 3:\n",
    "    print(\"Cooling system needs to be replaced\")\n",
    "    \n",
    "elif any(temperatures_C) > 80:\n",
    "    print(\"Cooling system needs to be replaced\")\n",
    "\n",
    "elif avg_temperature > 65:\n",
    "    print(\"Cooling system needs to be replaced\")\n",
    "\n",
    "else:\n",
    "    print(\"Cooling system is OK\")"
   ]
  },
  {
   "cell_type": "code",
   "execution_count": 9,
   "metadata": {},
   "outputs": [
    {
     "name": "stdout",
     "output_type": "stream",
     "text": [
      "Cooling system needs to be replaced\n"
     ]
    }
   ],
   "source": [
    "if len(big_temperatures) > 3 or any(temperatures_C) > 80 or avg_temperature > 65:\n",
    "    print(\"Cooling system needs to be replaced\")\n",
    "else:\n",
    "    print(\"Cooling system is OK\")"
   ]
  },
  {
   "cell_type": "markdown",
   "metadata": {},
   "source": [
    "## Bonus\n",
    "\n",
    "The company has decided that the decision you made is not valid. They want you to analyze the data again but this time, the conditions that need to be met in order to change the cooling system are different.\n",
    "\n",
    "This time, if one of the following events occurs, then the cooling system needs to be replaced:\n",
    "* The temperature is greater than 70ºC during more than 4 consecutive hours.\n",
    "* Any temperature is above 80ºC.\n",
    "* The average temperature exceeds 65ºC.\n",
    "\n",
    "Follow the steps so that you can make the decision.\n",
    "\n",
    "#### 1. Create a list with the hours where the temperature is greater than 70ºC. Store it in a variable."
   ]
  },
  {
   "cell_type": "code",
   "execution_count": 10,
   "metadata": {},
   "outputs": [
    {
     "data": {
      "text/plain": [
       "[(9, '09am'),\n",
       " (10, '10am'),\n",
       " (11, '11am'),\n",
       " (12, '13pm'),\n",
       " (13, '14pm'),\n",
       " (14, '15pm'),\n",
       " (15, '16pm')]"
      ]
     },
     "execution_count": 10,
     "metadata": {},
     "output_type": "execute_result"
    }
   ],
   "source": [
    "hrs_range = [(i, h) for i, h, t in zip(range(len(hrs)), hrs, temperatures_C) if t>70]\n",
    "hrs_range"
   ]
  },
  {
   "cell_type": "markdown",
   "metadata": {},
   "source": [
    "#### 2. Check if the list you created in step 1 has more than 4 consecutive hours. "
   ]
  },
  {
   "cell_type": "code",
   "execution_count": 11,
   "metadata": {
    "scrolled": false
   },
   "outputs": [
    {
     "name": "stdout",
     "output_type": "stream",
     "text": [
      "0 9 \n",
      "\n",
      "1 10 \n",
      "\n",
      "If 10 - 1 is equal to 9 it is the next hour\n",
      "\n",
      "2 11 \n",
      "\n",
      "If 11 - 1 is equal to 10 it is the next hour\n",
      "\n",
      "3 12 \n",
      "\n",
      "If 12 - 1 is equal to 11 it is the next hour\n",
      "\n",
      "4 13 \n",
      "\n",
      "If 13 - 1 is equal to 12 it is the next hour\n",
      "\n",
      "5 14 \n",
      "\n",
      "If 14 - 1 is equal to 13 it is the next hour\n",
      "\n",
      "6 15 \n",
      "\n",
      "If 15 - 1 is equal to 14 it is the next hour\n",
      "\n",
      "\n",
      "\n",
      "We have checked there are 6 hrs whose values are higher than 70 which are consecutive\n"
     ]
    }
   ],
   "source": [
    "counter = 0\n",
    "for i, n  in enumerate(hrs_range):\n",
    "    print(i, hrs_range[i][0], \"\\n\")\n",
    "    if hrs_range[i][0]-1 == hrs_range[i-1][0]:\n",
    "        counter += 1\n",
    "        print(f\"If {hrs_range[i][0]} - 1 is equal to {hrs_range[i-1][0]} it is the next hour\\n\")\n",
    "\n",
    "print(\"\\n\")\n",
    "\n",
    "if counter > 4:\n",
    "    print(f\"We have checked there are {counter} hrs whose values are higher than 70 which are consecutive\")"
   ]
  },
  {
   "cell_type": "markdown",
   "metadata": {},
   "source": [
    "#### 3. Make the decision!\n",
    "To make your decision, check if any of the three conditions is met. Print a message to show if the cooling system needs to be changed or not."
   ]
  },
  {
   "cell_type": "code",
   "execution_count": 12,
   "metadata": {},
   "outputs": [
    {
     "name": "stdout",
     "output_type": "stream",
     "text": [
      "Cooling system needs to be replaced\n"
     ]
    }
   ],
   "source": [
    "if counter > 4 or any(temperatures_C) > 80 or new_avg_temperature > 65:\n",
    "    print(\"Cooling system needs to be replaced\")\n",
    "else:\n",
    "    print(\"Cooling system is OK\")"
   ]
  },
  {
   "cell_type": "markdown",
   "metadata": {},
   "source": [
    "#### 4. Find the average value of the temperature lists (ºC and ºF). What is the relation between both average values?"
   ]
  },
  {
   "cell_type": "code",
   "execution_count": 13,
   "metadata": {},
   "outputs": [
    {
     "name": "stdout",
     "output_type": "stream",
     "text": [
      "62.760416666666664 144.96875\n",
      "We can reject null hypothesis and assume both means are different\n"
     ]
    }
   ],
   "source": [
    "f_temps_avg = np.mean(f_temps)\n",
    "\n",
    "print(new_avg_temperature, f_temps_avg)\n",
    "\n",
    "from scipy import stats\n",
    "x_t_test = stats.ttest_ind(temperatures_C, f_temps)\n",
    "\n",
    "if x_t_test.pvalue > 0.05:\n",
    "    print(\"We can't reject the null hypothesis, so we assume both means are equal\")\n",
    "else:\n",
    "    print(\"We can reject null hypothesis and assume both means are different\")"
   ]
  },
  {
   "cell_type": "markdown",
   "metadata": {},
   "source": [
    "#### 5. Find the standard deviation of the temperature lists (ºC and ºF). What is the relation between both standard deviations?"
   ]
  },
  {
   "cell_type": "code",
   "execution_count": 14,
   "metadata": {},
   "outputs": [
    {
     "name": "stdout",
     "output_type": "stream",
     "text": [
      "14.641813548637188 26.35526438754694\n",
      "We can reject null hypothesis and assume both standard deviations are different\n"
     ]
    },
    {
     "name": "stderr",
     "output_type": "stream",
     "text": [
      "/home/diego/anaconda3/lib/python3.7/site-packages/numpy/core/fromnumeric.py:3622: RuntimeWarning: Degrees of freedom <= 0 for slice\n",
      "  **kwargs)\n",
      "/home/diego/anaconda3/lib/python3.7/site-packages/numpy/core/_methods.py:226: RuntimeWarning: invalid value encountered in double_scalars\n",
      "  ret = ret.dtype.type(ret / rcount)\n"
     ]
    }
   ],
   "source": [
    "std_temps, std_f_temps = np.std(temperatures_C), np.std(f_temps)\n",
    "print(std_temps, std_f_temps)\n",
    "\n",
    "sd_t_test = stats.stats.ttest_ind(std_temps, std_f_temps)\n",
    "\n",
    "if sd_t_test.pvalue > 0.05:\n",
    "    print(\"We can't reject the null hypothesis, so we assume both standard deviations are equal\")\n",
    "else:\n",
    "    print(\"We can reject null hypothesis and assume both standard deviations are different\")"
   ]
  }
 ],
 "metadata": {
  "kernelspec": {
   "display_name": "Python 3",
   "language": "python",
   "name": "python3"
  },
  "language_info": {
   "codemirror_mode": {
    "name": "ipython",
    "version": 3
   },
   "file_extension": ".py",
   "mimetype": "text/x-python",
   "name": "python",
   "nbconvert_exporter": "python",
   "pygments_lexer": "ipython3",
   "version": "3.7.4"
  }
 },
 "nbformat": 4,
 "nbformat_minor": 2
}
