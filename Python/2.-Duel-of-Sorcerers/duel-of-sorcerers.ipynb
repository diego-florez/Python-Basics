{
 "cells": [
  {
   "cell_type": "markdown",
   "metadata": {},
   "source": [
    "<img src=\"https://bit.ly/2VnXWr2\" width=\"100\" align=\"left\">"
   ]
  },
  {
   "cell_type": "markdown",
   "metadata": {},
   "source": [
    "# Duel of Sorcerers\n",
    "You are witnessing an epic battle between two powerful sorcerers: Gandalf and Saruman. Each sorcerer has 10 spells of variable power in their mind and they are going to throw them one after the other. The winner of the duel will be the one who wins more of those clashes between spells. Spells are represented as a list of 10 integers whose value equals the power of the spell.\n",
    "```\n",
    "gandalf = [10, 11, 13, 30, 22, 11, 10, 33, 22, 22]\n",
    "saruman = [23, 66, 12, 43, 12, 10, 44, 23, 12, 17]\n",
    "```\n",
    "For example:\n",
    "- The first clash is won by Saruman: 10 against 23.\n",
    "- The second clash is won by Saruman: 11 against 66.\n",
    "- ...\n",
    "\n",
    "You will create two variables, one for each sorcerer, where the sum of clashes won will be stored. Depending on which variable is greater at the end of the duel, you will show one of the following three results on the screen:\n",
    "* Gandalf wins\n",
    "* Saruman wins\n",
    "* Tie\n",
    "\n",
    "<img src=\"images/content_lightning_bolt_big.jpg\" width=\"400\">"
   ]
  },
  {
   "cell_type": "markdown",
   "metadata": {},
   "source": [
    "## Tools\n",
    "You don't necessarily need to use all the tools. Maybe you opt to use some of them or completely different ones, they are given to help you shape the exercise. Programming exercises can be solved in many different ways.\n",
    "\n",
    "1. Data structures: **lists, dictionaries**\n",
    "2. Loop: **for loop**\n",
    "3. Conditional statements: **if-elif-else**\n",
    "4. Functions: **range(), len(), print()**\n",
    "\n",
    "## Tasks\n",
    "\n",
    "#### 1. Create two variables called `gandalf` and `saruman` and assign them the spell power lists. Create a variable called `spells` to store the number of spells that the sorcerers cast. "
   ]
  },
  {
   "cell_type": "code",
   "execution_count": 1,
   "metadata": {},
   "outputs": [],
   "source": [
    "gandalf = [10, 11, 13, 30, 22, 11, 10, 33, 22, 22]\n",
    "saruman = [23, 66, 12, 43, 12, 10, 44, 23, 12, 17]\n",
    "spells = []"
   ]
  },
  {
   "cell_type": "markdown",
   "metadata": {},
   "source": [
    "#### 2. Create two variables called `gandalf_wins` and `saruman_wins`. Set both of them to 0. \n",
    "You will use these variables to count the number of clashes each sorcerer wins. "
   ]
  },
  {
   "cell_type": "code",
   "execution_count": 2,
   "metadata": {},
   "outputs": [],
   "source": [
    "#Como vemos aquí podemos definir variables tanto escalonadamente como separado por comas\n",
    "gandalf_wins, saruman_wins = 0, 0"
   ]
  },
  {
   "cell_type": "markdown",
   "metadata": {},
   "source": [
    "#### 3. Using the lists of spells of both sorcerers, update variables `gandalf_wins` and `saruman_wins` to count the number of times each sorcerer wins a clash. "
   ]
  },
  {
   "cell_type": "code",
   "execution_count": 3,
   "metadata": {
    "scrolled": false
   },
   "outputs": [
    {
     "name": "stdout",
     "output_type": "stream",
     "text": [
      "Muestra de lo que zip hace: [(10, 23), (11, 66), (13, 12), (30, 43), (22, 12), (11, 10), (10, 44), (33, 23), (22, 12), (22, 17)] \n",
      "\n",
      "1. gandalf start points: 0 saruman start points: 0 \n",
      "\n",
      "2. 10 vs 23 \n",
      "\n",
      "3. gandalf points +: 0 saruman points +: 1 \n",
      "\n",
      "4. Number of spells casted by each sorcerer: [1] \n",
      "\n",
      "1. gandalf start points: 0 saruman start points: 1 \n",
      "\n",
      "2. 11 vs 66 \n",
      "\n",
      "3. gandalf points +: 0 saruman points +: 2 \n",
      "\n",
      "4. Number of spells casted by each sorcerer: [1, 1] \n",
      "\n",
      "1. gandalf start points: 0 saruman start points: 2 \n",
      "\n",
      "2. 13 vs 12 \n",
      "\n",
      "3. gandalf points +: 1 saruman points +: 2 \n",
      "\n",
      "4. Number of spells casted by each sorcerer: [1, 1, 1] \n",
      "\n",
      "1. gandalf start points: 1 saruman start points: 2 \n",
      "\n",
      "2. 30 vs 43 \n",
      "\n",
      "3. gandalf points +: 1 saruman points +: 3 \n",
      "\n",
      "4. Number of spells casted by each sorcerer: [1, 1, 1, 1] \n",
      "\n",
      "1. gandalf start points: 1 saruman start points: 3 \n",
      "\n",
      "2. 22 vs 12 \n",
      "\n",
      "3. gandalf points +: 2 saruman points +: 3 \n",
      "\n",
      "4. Number of spells casted by each sorcerer: [1, 1, 1, 1, 1] \n",
      "\n",
      "1. gandalf start points: 2 saruman start points: 3 \n",
      "\n",
      "2. 11 vs 10 \n",
      "\n",
      "3. gandalf points +: 3 saruman points +: 3 \n",
      "\n",
      "4. Number of spells casted by each sorcerer: [1, 1, 1, 1, 1, 1] \n",
      "\n",
      "1. gandalf start points: 3 saruman start points: 3 \n",
      "\n",
      "2. 10 vs 44 \n",
      "\n",
      "3. gandalf points +: 3 saruman points +: 4 \n",
      "\n",
      "4. Number of spells casted by each sorcerer: [1, 1, 1, 1, 1, 1, 1] \n",
      "\n",
      "1. gandalf start points: 3 saruman start points: 4 \n",
      "\n",
      "2. 33 vs 23 \n",
      "\n",
      "3. gandalf points +: 4 saruman points +: 4 \n",
      "\n",
      "4. Number of spells casted by each sorcerer: [1, 1, 1, 1, 1, 1, 1, 1] \n",
      "\n",
      "1. gandalf start points: 4 saruman start points: 4 \n",
      "\n",
      "2. 22 vs 12 \n",
      "\n",
      "3. gandalf points +: 5 saruman points +: 4 \n",
      "\n",
      "4. Number of spells casted by each sorcerer: [1, 1, 1, 1, 1, 1, 1, 1, 1] \n",
      "\n",
      "1. gandalf start points: 5 saruman start points: 4 \n",
      "\n",
      "2. 22 vs 17 \n",
      "\n",
      "3. gandalf points +: 6 saruman points +: 4 \n",
      "\n",
      "4. Number of spells casted by each sorcerer: [1, 1, 1, 1, 1, 1, 1, 1, 1, 1] \n",
      "\n"
     ]
    }
   ],
   "source": [
    "#Aquí usaremos un nuevo built in method; \"zip\", que agrupa en tuples de 2, 3 o mas elementos en base al numero \n",
    "#de grupos que entre en el zip\n",
    "#Hago un ejemplo aquí las listas gandalf y saruman\n",
    "\n",
    "print(\"Muestra de lo que zip hace:\", list(zip(gandalf, saruman)), \"\\n\")\n",
    "#Como vemos en el output agrupa cada elemento de una lista con su equivalente de la otra\n",
    "\n",
    "#De esta manera, con la siguiente función gandalf ganará un punto cada vez que su elemento sea mayor que el de \n",
    "#saruman, y de la manera contraria\n",
    "for g, s in zip(gandalf, saruman):\n",
    "    print(\"1. gandalf start points:\", gandalf_wins, \"saruman start points:\", saruman_wins, \"\\n\")\n",
    "    print(\"2.\", g, \"vs\", s, \"\\n\")\n",
    "    if g > s:\n",
    "        gandalf_wins += 1\n",
    "    else:\n",
    "        saruman_wins += 1\n",
    "    print(\"3. gandalf points +:\", gandalf_wins, \"saruman points +:\", saruman_wins, \"\\n\")\n",
    "    spells.append(1)\n",
    "    print(\"4. Number of spells casted by each sorcerer:\", spells, \"\\n\")"
   ]
  },
  {
   "cell_type": "markdown",
   "metadata": {},
   "source": [
    "#### 4. Who won the battle?\n",
    "Print `Gandalf wins`, `Saruman wins` or `Tie` depending on the result. "
   ]
  },
  {
   "cell_type": "code",
   "execution_count": 4,
   "metadata": {},
   "outputs": [
    {
     "name": "stdout",
     "output_type": "stream",
     "text": [
      "Gandalf wins\n"
     ]
    }
   ],
   "source": [
    "#Este punto nos sirve para ver claramente como funcionan los statements if, elif and else\n",
    "\n",
    "if gandalf_wins > saruman_wins:\n",
    "    print(\"Gandalf wins\") \n",
    "elif gandalf_wins < saruman_wins:\n",
    "    print(\"Saruman wins\")\n",
    "else:\n",
    "    print(\"Tie\")"
   ]
  },
  {
   "cell_type": "code",
   "execution_count": 5,
   "metadata": {},
   "outputs": [
    {
     "name": "stdout",
     "output_type": "stream",
     "text": [
      "Gandalf wins\n"
     ]
    }
   ],
   "source": [
    "#Igual que previamente pero en una línea (pythonic way)\n",
    "\n",
    "print(\"Gandalf wins\") if gandalf_wins > saruman_wins else print(\"Saruman wins\") if gandalf_wins < saruman_wins else print(\"Tie\")"
   ]
  },
  {
   "cell_type": "markdown",
   "metadata": {},
   "source": [
    "## Bonus\n",
    "\n",
    "In this bonus challenge, you'll need to check the winner of the battle but this time, a sorcerer wins if he succeeds in winning 3 spell clashes in a row.\n",
    "\n",
    "Also, the spells now have a name and there is a dictionary that associates that name to a power.\n",
    "\n",
    "```\n",
    "POWER = {\n",
    "    'Fireball': 50, \n",
    "    'Lightning bolt': 40, \n",
    "    'Magic arrow': 10, \n",
    "    'Black Tentacles': 25, \n",
    "    'Contagion': 45\n",
    "}\n",
    "\n",
    "gandalf = ['Fireball', 'Lightning bolt', 'Lightning bolt', 'Magic arrow', 'Fireball', \n",
    "           'Magic arrow', 'Lightning bolt', 'Fireball', 'Fireball', 'Fireball']\n",
    "saruman = ['Contagion', 'Contagion', 'Black Tentacles', 'Fireball', 'Black Tentacles', \n",
    "           'Lightning bolt', 'Magic arrow', 'Contagion', 'Magic arrow', 'Magic arrow']\n",
    "```\n",
    "\n",
    "#### 1. Create variables `POWER`, `gandalf` and `saruman` as seen above. Create a variable called `spells` to store the number of spells that the sorcerers cast. "
   ]
  },
  {
   "cell_type": "code",
   "execution_count": 6,
   "metadata": {},
   "outputs": [],
   "source": [
    "POWER = {\n",
    "    'Fireball': 50, \n",
    "    'Lightning bolt': 40, \n",
    "    'Magic arrow': 10, \n",
    "    'Black Tentacles': 25, \n",
    "    'Contagion': 45\n",
    "}\n",
    "\n",
    "gandalf = ['Fireball', 'Lightning bolt', 'Lightning bolt', 'Magic arrow', 'Fireball', \n",
    "           'Magic arrow', 'Lightning bolt', 'Fireball', 'Fireball', 'Fireball']\n",
    "saruman = ['Contagion', 'Contagion', 'Black Tentacles', 'Fireball', 'Black Tentacles', \n",
    "           'Lightning bolt', 'Magic arrow', 'Contagion', 'Magic arrow', 'Magic arrow']\n",
    "\n",
    "spells = []"
   ]
  },
  {
   "cell_type": "markdown",
   "metadata": {},
   "source": [
    "#### 2. Create two variables called `gandalf_wins` and `saruman_wins`. Set both of them to 0. "
   ]
  },
  {
   "cell_type": "code",
   "execution_count": 7,
   "metadata": {},
   "outputs": [],
   "source": [
    "gandalf_wins, saruman_wins = 0, 0"
   ]
  },
  {
   "cell_type": "markdown",
   "metadata": {},
   "source": [
    "#### 3. Create two variables called `gandalf_power` and `saruman_power` to store the list of spell powers of each sorcerer."
   ]
  },
  {
   "cell_type": "code",
   "execution_count": 8,
   "metadata": {
    "scrolled": true
   },
   "outputs": [
    {
     "name": "stdout",
     "output_type": "stream",
     "text": [
      "[50, 40, 40, 10, 50, 10, 40, 50, 50, 50]\n",
      "[45, 45, 25, 50, 25, 40, 10, 45, 10, 10]\n"
     ]
    }
   ],
   "source": [
    "gandalf_power, saruman_power = [], []\n",
    "\n",
    "#En este apartado vamos a combinar dos de los elementos más usados en python; LISTAS y DICCIONARIOS en un for loop\n",
    "\n",
    "#Como hemos visto previamente g, y s corresponden a cada punto de las listas gandalf y saruman respectivamente, es\n",
    "#decir; \"Fireball, Contagion...\"\n",
    "\n",
    "#Por lo tanto, lo que haremos aquí es añadir a nuestras dos listas vacias (gandalf_power, saruman_power) el valor\n",
    "#correspondiente de cada hechizo, es decir, usaremos el diccionario POWER\n",
    "\n",
    "#Para hacerlo, es necesario entender como funciona un diccionario en python* (Lo explicamos en las siguientes casilla)\n",
    "for g, s in zip(gandalf, saruman):\n",
    "    gandalf_power.append(POWER[g])\n",
    "    saruman_power.append(POWER[s])\n",
    "    \n",
    "print(gandalf_power)\n",
    "print(saruman_power)"
   ]
  },
  {
   "cell_type": "markdown",
   "metadata": {},
   "source": [
    "# Diccionario vs Lista"
   ]
  },
  {
   "cell_type": "code",
   "execution_count": 9,
   "metadata": {},
   "outputs": [
    {
     "name": "stdout",
     "output_type": "stream",
     "text": [
      "POWER data type --> <class 'dict'> , gandalf data type --> <class 'list'>\n"
     ]
    }
   ],
   "source": [
    "#Primero vamos a ver cual es cual con la buit in function de python \"type\"\n",
    "\n",
    "print(\"POWER data type -->\", type(POWER),\", gandalf data type -->\", type(gandalf))"
   ]
  },
  {
   "cell_type": "markdown",
   "metadata": {},
   "source": [
    "### Qué los diferencia? Muchas cosas, pero para empezar vamos a ver como indexar cada uno de ellos"
   ]
  },
  {
   "cell_type": "markdown",
   "metadata": {},
   "source": [
    "#### Listas -- Indexando Elemento Unico"
   ]
  },
  {
   "cell_type": "code",
   "execution_count": 10,
   "metadata": {},
   "outputs": [
    {
     "name": "stdout",
     "output_type": "stream",
     "text": [
      "1. Indexando LISTA elemento por elemento\n",
      "\n",
      "Elemento 0 Fireball\n",
      "Elemento 1 Lightning bolt\n",
      "Elemento 2 Lightning bolt\n",
      "\n",
      "\n",
      "----------------------------------------------------------------------------------------------------------\n",
      "\n",
      "\n",
      "2. Indexando LISTA elemento por elemento -- Desde atrás\n",
      "\n",
      "Elemento -1 Fireball\n",
      "Elemento -2 Fireball\n"
     ]
    }
   ],
   "source": [
    "print(\"1. Indexando LISTA elemento por elemento\\n\")\n",
    "print(\"Elemento 0\", gandalf[0])\n",
    "#Aquí vemos que el indice en las listas de python empiezan en 0. Por tanto el primer elemento será siempre\n",
    "#el indice 0\n",
    "print(\"Elemento 1\", gandalf[1])\n",
    "print(\"Elemento 2\", gandalf[2])\n",
    "\n",
    "print(\"\\n\")\n",
    "print(\"----------------------------------------------------------------------------------------------------------\")\n",
    "print(\"\\n\")\n",
    "\n",
    "#Tambien podemos empezar por atrás\n",
    "print(\"2. Indexando LISTA elemento por elemento -- Desde atrás\\n\")\n",
    "print(\"Elemento -1\", gandalf[-1])\n",
    "#Sin embargo para referirnos al último elemento sí empezaremos por -1\n",
    "print(\"Elemento -2\", gandalf[-2])"
   ]
  },
  {
   "cell_type": "markdown",
   "metadata": {},
   "source": [
    "#### Listas -- Indexando Bloques"
   ]
  },
  {
   "cell_type": "code",
   "execution_count": 11,
   "metadata": {},
   "outputs": [
    {
     "name": "stdout",
     "output_type": "stream",
     "text": [
      "3. Indexando bloques de la lista\n",
      "\n",
      "Bloque A -- Lista entera\n",
      " ['Fireball', 'Lightning bolt', 'Lightning bolt', 'Magic arrow', 'Fireball', 'Magic arrow', 'Lightning bolt', 'Fireball', 'Fireball', 'Fireball'] \n",
      "\n",
      "Bloque B -- Lista entera\n",
      " ['Fireball', 'Lightning bolt', 'Lightning bolt', 'Magic arrow', 'Fireball', 'Magic arrow', 'Lightning bolt', 'Fireball', 'Fireball', 'Fireball'] \n",
      "\n",
      "\n",
      "\n",
      "----------------------------------------------------------------------------------------------------------\n",
      "\n",
      "\n",
      "Bloque C -- 3 Elementos\n",
      " ['Fireball', 'Lightning bolt', 'Lightning bolt'] \n",
      "\n",
      "Bloque D -- 7 Elementos\n",
      " ['Magic arrow', 'Fireball', 'Magic arrow', 'Lightning bolt', 'Fireball', 'Fireball', 'Fireball'] \n",
      "\n"
     ]
    }
   ],
   "source": [
    "#Indexando bloques de la lista\n",
    "print(\"3. Indexando bloques de la lista\\n\")\n",
    "print(\"Bloque A -- Lista entera\\n\", gandalf[:], \"\\n\")\n",
    "print(\"Bloque B -- Lista entera\\n\", gandalf, \"\\n\")\n",
    "#Vemos que los bloques de arriba producen el mismo resultado, por que? Porque cuando escribimos [:] estamos cogiendo\n",
    "#todos los elementos de la lista\n",
    "\n",
    "print(\"\\n\")\n",
    "print(\"----------------------------------------------------------------------------------------------------------\")\n",
    "print(\"\\n\")\n",
    "\n",
    "print(\"Bloque C -- 3 Elementos\\n\", gandalf[:3], \"\\n\")\n",
    "print(f\"Bloque D -- {len(gandalf[3:])} Elementos\\n\", gandalf[3:], \"\\n\")\n",
    "\n",
    "#En el código de arriba vemos 2 puntos muy importantes\n",
    "#1. Si no ponemos numero antes de los dos puntos, o después, significa que nuestra lista irá del principio al\n",
    "#indice 3* (va al 2 en realidad), y desde el indice 3 al final\n",
    "\n",
    "#2. Aquí está la explicación del punto previo, como podemos ver, el elemento 3, que es \"Magic arrow\", no se incluye\n",
    "#en el bloque C, porque python indexa hasta el elemento previo al último numero seleccionado.\n",
    "#Sin embargo, el bloque D, si que empieza en el elemento 3"
   ]
  },
  {
   "cell_type": "code",
   "execution_count": 12,
   "metadata": {
    "scrolled": false
   },
   "outputs": [
    {
     "name": "stdout",
     "output_type": "stream",
     "text": [
      "Indice 0 Hechizo Fireball\n",
      "Indice 1 Hechizo Lightning bolt\n",
      "Indice 2 Hechizo Lightning bolt\n",
      "Indice 3 Hechizo Magic arrow\n",
      "Indice 4 Hechizo Fireball\n",
      "Indice 5 Hechizo Magic arrow\n",
      "Indice 6 Hechizo Lightning bolt\n",
      "Indice 7 Hechizo Fireball\n",
      "Indice 8 Hechizo Fireball\n",
      "Indice 9 Hechizo Fireball\n",
      "\n",
      "\n",
      "----------------------------------------------------------------------------------------------------------\n",
      "\n",
      "\n",
      "Hechizo indice 4 Fireball\n",
      "\n",
      "\n",
      "----------------------------------------------------------------------------------------------------------\n",
      "\n",
      "\n",
      "Hechizo indice 3-8 ['Magic arrow', 'Fireball', 'Magic arrow', 'Lightning bolt', 'Fireball', 'Fireball']\n",
      "\n",
      "\n",
      "----------------------------------------------------------------------------------------------------------\n",
      "\n",
      "\n",
      "Hechizo indice 8-3 ['Fireball', 'Fireball', 'Lightning bolt', 'Magic arrow', 'Fireball', 'Magic arrow']\n",
      "Hechizo indice 8-3 ['Fireball', 'Fireball', 'Lightning bolt', 'Magic arrow', 'Fireball', 'Magic arrow']\n",
      "Hechizo indice 8-3 ['Fireball', 'Fireball', 'Lightning bolt', 'Magic arrow', 'Fireball', 'Magic arrow']\n"
     ]
    }
   ],
   "source": [
    "#Para entender bien lo visto anteriormente vamos a usar la built in function de python \"enumerate\" en for loop\n",
    "\n",
    "for index, spell in enumerate(gandalf):\n",
    "    print(\"Indice\", index, \"Hechizo\", spell)\n",
    "    \n",
    "print(\"\\n\")\n",
    "print(\"----------------------------------------------------------------------------------------------------------\")\n",
    "print(\"\\n\")\n",
    "\n",
    "#Para probar lo aprendido vamos a acceder al hechizo indice 4\n",
    "print(\"Hechizo indice 4\", gandalf[4])\n",
    "\n",
    "print(\"\\n\")\n",
    "print(\"----------------------------------------------------------------------------------------------------------\")\n",
    "print(\"\\n\")\n",
    "\n",
    "#Ahora vamos a coger del 3 al 8\n",
    "print(\"Hechizo indice 3-8\", gandalf[3:9])\n",
    "#Como vemos he puesto el numero 9, para que entre el hechizo numero 8\n",
    "\n",
    "print(\"\\n\")\n",
    "print(\"----------------------------------------------------------------------------------------------------------\")\n",
    "print(\"\\n\")\n",
    "\n",
    "#También podemos ir de atrás al principio (haremos el mismo bloque al reves)\n",
    "print(\"Hechizo indice 8-3\", gandalf[-2:2:-1])\n",
    "#Aquí empiezo en el -2, que sería el numero 8 del indice original\n",
    "#Y acabo en el 3, un numero antes que el 2\n",
    "#Que ha cambiado? El numero despues de los segundos dos puntos, el -1. Este numero indica que iremos de atras\n",
    "#hacia delante. \n",
    "\n",
    "#He empezado por numero negativo, porque es más rápido saber cual es, pero podemos poner el 8 directamente\n",
    "print(\"Hechizo indice 8-3\", gandalf[8:2:-1])\n",
    "\n",
    "#O incluso llamar al indice 2 al reves, que sería el -8\n",
    "print(\"Hechizo indice 8-3\", gandalf[8:-8:-1])"
   ]
  },
  {
   "cell_type": "markdown",
   "metadata": {},
   "source": [
    "#### Diccionarios -- Indexando Elemento Unico"
   ]
  },
  {
   "cell_type": "code",
   "execution_count": 13,
   "metadata": {},
   "outputs": [
    {
     "name": "stdout",
     "output_type": "stream",
     "text": [
      "POWER Keys dict_keys(['Fireball', 'Lightning bolt', 'Magic arrow', 'Black Tentacles', 'Contagion'])\n",
      "POWER Values dict_values([50, 40, 10, 25, 45])\n",
      "\n",
      "\n",
      "POWER Items dict_items([('Fireball', 50), ('Lightning bolt', 40), ('Magic arrow', 10), ('Black Tentacles', 25), ('Contagion', 45)])\n"
     ]
    }
   ],
   "source": [
    "#En los diccionarios lo primero de todo, es entender que hay dos tipos de valores\n",
    "#Las Keys y los Values\n",
    "\n",
    "print(\"POWER Keys\", POWER.keys())\n",
    "print(\"POWER Values\", POWER.values())\n",
    "print(\"\\n\")\n",
    "#O también podemos referirnos a ambos a la vez, obteniendo un output en forma de tuples\n",
    "print(\"POWER Items\", POWER.items())"
   ]
  },
  {
   "cell_type": "code",
   "execution_count": 14,
   "metadata": {},
   "outputs": [
    {
     "name": "stdout",
     "output_type": "stream",
     "text": [
      "1. Indexando DICCIONARIO valor por valor\n",
      "\n",
      "Value 0 50\n",
      "Value 1 40\n",
      "Value 2 10\n",
      "\n",
      "\n",
      "----------------------------------------------------------------------------------------------------------\n",
      "\n",
      "\n",
      "2. Indexando DICCIONARIO key por key\n",
      "\n",
      "Value 0 Fireball\n",
      "Value 0 Lightning bolt\n",
      "\n",
      "\n",
      "----------------------------------------------------------------------------------------------------------\n",
      "\n",
      "\n",
      "Fireball 50\n",
      "Lightning bolt 40\n",
      "Magic arrow 10\n",
      "Black Tentacles 25\n",
      "Contagion 45\n"
     ]
    }
   ],
   "source": [
    "print(\"1. Indexando DICCIONARIO valor por valor\\n\")\n",
    "print(\"Value 0\", POWER[\"Fireball\"])\n",
    "print(\"Value 1\", POWER[\"Lightning bolt\"])\n",
    "print(\"Value 2\", POWER[\"Magic arrow\"])\n",
    "\n",
    "print(\"\\n\")\n",
    "print(\"----------------------------------------------------------------------------------------------------------\")\n",
    "print(\"\\n\")\n",
    "\n",
    "#Como vemos podemos acceder a los values insertando las keys entre corchetes, sin embargo no podemos\n",
    "#acceder a las keys de manera inherente. Para ello necesitamos convertir las keys a lista o usar un for loop\n",
    "print(\"2. Indexando DICCIONARIO key por key\\n\")\n",
    "print(\"Value 0\", list(POWER.keys())[0])\n",
    "print(\"Value 0\", list(POWER.keys())[1])\n",
    "\n",
    "print(\"\\n\")\n",
    "print(\"----------------------------------------------------------------------------------------------------------\")\n",
    "print(\"\\n\")\n",
    "\n",
    "for key, value in POWER.items():\n",
    "    print(key, value)"
   ]
  },
  {
   "cell_type": "code",
   "execution_count": 15,
   "metadata": {},
   "outputs": [
    {
     "name": "stdout",
     "output_type": "stream",
     "text": [
      "Indice Gandalf (0, 'Fireball') Value 50\n",
      "Indice Saruman (0, 'Contagion') Value 45\n",
      "Indice Gandalf (1, 'Lightning bolt') Value 40\n",
      "Indice Saruman (1, 'Contagion') Value 45\n",
      "Indice Gandalf (2, 'Lightning bolt') Value 40\n",
      "Indice Saruman (2, 'Black Tentacles') Value 25\n",
      "Indice Gandalf (3, 'Magic arrow') Value 10\n",
      "Indice Saruman (3, 'Fireball') Value 50\n",
      "Indice Gandalf (4, 'Fireball') Value 50\n",
      "Indice Saruman (4, 'Black Tentacles') Value 25\n",
      "Indice Gandalf (5, 'Magic arrow') Value 10\n",
      "Indice Saruman (5, 'Lightning bolt') Value 40\n",
      "Indice Gandalf (6, 'Lightning bolt') Value 40\n",
      "Indice Saruman (6, 'Magic arrow') Value 10\n",
      "Indice Gandalf (7, 'Fireball') Value 50\n",
      "Indice Saruman (7, 'Contagion') Value 45\n",
      "Indice Gandalf (8, 'Fireball') Value 50\n",
      "Indice Saruman (8, 'Magic arrow') Value 10\n",
      "Indice Gandalf (9, 'Fireball') Value 50\n",
      "Indice Saruman (9, 'Magic arrow') Value 10\n"
     ]
    }
   ],
   "source": [
    "#Ahora vamos a mostrar lo que hemos hecho al principio, combinar listas y diccionarios\n",
    "for index_g, g, index_s, s in zip(enumerate(gandalf), gandalf, enumerate(saruman), saruman):\n",
    "    print(\"Indice Gandalf\", index_g, \"Value\", POWER[g])\n",
    "    print(\"Indice Saruman\", index_s, \"Value\", POWER[s])\n",
    "    \n",
    "#Como vemos estamos iterando los elementos de las listas gandalf y saruman y al ser las keys del diccionario\n",
    "#POWER, podemos acceder a cada uno de sus valores"
   ]
  },
  {
   "cell_type": "markdown",
   "metadata": {},
   "source": [
    "#### 4. The battle starts! Using the variables you've created above, code the execution of spell clashes. Remember that a sorcerer wins if he succeeds in winning 3 spell clashes in a row. \n",
    "If a clash ends up in a tie, the counter of wins in a row is not restarted to 0. Remember to print who is the winner of the battle. "
   ]
  },
  {
   "cell_type": "code",
   "execution_count": 16,
   "metadata": {},
   "outputs": [
    {
     "name": "stdout",
     "output_type": "stream",
     "text": [
      "1. gandalf start points: 0 saruman start points: 0 \n",
      "\n",
      "2. 50 vs 45 \n",
      "\n",
      "3. gandalf points +: 1 saruman points +: 0 \n",
      "\n",
      "gandalf_p [1]\n",
      "saruman_p [0] \n",
      "\n",
      "1. gandalf start points: 1 saruman start points: 0 \n",
      "\n",
      "2. 40 vs 45 \n",
      "\n",
      "3. gandalf points +: 1 saruman points +: 1 \n",
      "\n",
      "gandalf_p [1, 0]\n",
      "saruman_p [0, 1] \n",
      "\n",
      "1. gandalf start points: 1 saruman start points: 1 \n",
      "\n",
      "2. 40 vs 25 \n",
      "\n",
      "3. gandalf points +: 2 saruman points +: 1 \n",
      "\n",
      "gandalf_p [1, 0, 1]\n",
      "saruman_p [0, 1, 0] \n",
      "\n",
      "1. gandalf start points: 2 saruman start points: 1 \n",
      "\n",
      "2. 10 vs 50 \n",
      "\n",
      "3. gandalf points +: 2 saruman points +: 2 \n",
      "\n",
      "gandalf_p [1, 0, 1, 0]\n",
      "saruman_p [0, 1, 0, 1] \n",
      "\n",
      "1. gandalf start points: 2 saruman start points: 2 \n",
      "\n",
      "2. 50 vs 25 \n",
      "\n",
      "3. gandalf points +: 3 saruman points +: 2 \n",
      "\n",
      "gandalf_p [1, 0, 1, 0, 1]\n",
      "saruman_p [0, 1, 0, 1, 0] \n",
      "\n",
      "1. gandalf start points: 3 saruman start points: 2 \n",
      "\n",
      "2. 10 vs 40 \n",
      "\n",
      "3. gandalf points +: 3 saruman points +: 3 \n",
      "\n",
      "gandalf_p [1, 0, 1, 0, 1, 0]\n",
      "saruman_p [0, 1, 0, 1, 0, 1] \n",
      "\n",
      "1. gandalf start points: 3 saruman start points: 3 \n",
      "\n",
      "2. 40 vs 10 \n",
      "\n",
      "3. gandalf points +: 4 saruman points +: 3 \n",
      "\n",
      "gandalf_p [1, 0, 1, 0, 1, 0, 1]\n",
      "saruman_p [0, 1, 0, 1, 0, 1, 0] \n",
      "\n",
      "1. gandalf start points: 4 saruman start points: 3 \n",
      "\n",
      "2. 50 vs 45 \n",
      "\n",
      "3. gandalf points +: 5 saruman points +: 3 \n",
      "\n",
      "gandalf_p [1, 0, 1, 0, 1, 0, 1, 1]\n",
      "saruman_p [0, 1, 0, 1, 0, 1, 0, 0] \n",
      "\n",
      "1. gandalf start points: 5 saruman start points: 3 \n",
      "\n",
      "2. 50 vs 10 \n",
      "\n",
      "3. gandalf points +: 6 saruman points +: 3 \n",
      "\n",
      "gandalf_p [1, 0, 1, 0, 1, 0, 1, 1, 1]\n",
      "saruman_p [0, 1, 0, 1, 0, 1, 0, 0, 0] \n",
      "\n",
      "Gandalf wins 3 consecutive\n"
     ]
    }
   ],
   "source": [
    "gandalf_p = []\n",
    "saruman_p = []\n",
    "\n",
    "for ig, g, isa, s in zip(enumerate(gandalf_power), gandalf_power, enumerate(saruman_power), saruman_power):\n",
    "    \n",
    "    print(\"1. gandalf start points:\", gandalf_wins, \"saruman start points:\", saruman_wins, \"\\n\")\n",
    "    print(\"2.\", g, \"vs\", s, \"\\n\")\n",
    "    \n",
    "    if g > s:\n",
    "        gandalf_wins += 1\n",
    "        print(\"3. gandalf points +:\", gandalf_wins, \"saruman points +:\", saruman_wins, \"\\n\")\n",
    "        gandalf_p.append(1)\n",
    "        saruman_p.append(0)\n",
    "        \n",
    "    else:\n",
    "        saruman_wins += 1\n",
    "        print(\"3. gandalf points +:\", gandalf_wins, \"saruman points +:\", saruman_wins, \"\\n\")\n",
    "        gandalf_p.append(0)\n",
    "        saruman_p.append(1)\n",
    "        \n",
    "    print(\"gandalf_p\", gandalf_p)\n",
    "    print(\"saruman_p\", saruman_p, \"\\n\")\n",
    "        \n",
    "    if len(gandalf_p) > 2 and all([gandalf_p[ig[0]], gandalf_p[ig[0]-1], gandalf_p[ig[0]-2]]) == 1:     \n",
    "        print(\"Gandalf wins 3 consecutive\")\n",
    "        break\n",
    "        \n",
    "    elif len(saruman_p) > 2 and all([saruman_p[ig[0]], saruman_p[ig[0]-1], saruman_p[ig[0]-2]]) == 1:\n",
    "        print(\"Saruman wins 3 consecutive\")\n",
    "        break\n"
   ]
  },
  {
   "cell_type": "markdown",
   "metadata": {},
   "source": [
    "#### 5. Find the average spell power of Gandalf and Saruman. "
   ]
  },
  {
   "cell_type": "code",
   "execution_count": 17,
   "metadata": {},
   "outputs": [
    {
     "name": "stdout",
     "output_type": "stream",
     "text": [
      "Avg Gandalf power 39.0 , Avg Saruman power 30.5\n"
     ]
    }
   ],
   "source": [
    "import numpy as np\n",
    "\n",
    "print(\"Avg Gandalf power\", np.mean(gandalf_power),\", Avg Saruman power\", np.mean(saruman_power))"
   ]
  },
  {
   "cell_type": "markdown",
   "metadata": {},
   "source": [
    "#### 6. Find the standard deviation of the spell power of Gandalf and Saruman. "
   ]
  },
  {
   "cell_type": "code",
   "execution_count": 18,
   "metadata": {},
   "outputs": [
    {
     "name": "stdout",
     "output_type": "stream",
     "text": [
      "Avg Gandalf power 15.132745950421556 , Avg Saruman power 15.56438241627338\n"
     ]
    }
   ],
   "source": [
    "print(\"Avg Gandalf power\", np.std(gandalf_power),\", Avg Saruman power\", np.std(saruman_power))"
   ]
  }
 ],
 "metadata": {
  "kernelspec": {
   "display_name": "Python 3",
   "language": "python",
   "name": "python3"
  },
  "language_info": {
   "codemirror_mode": {
    "name": "ipython",
    "version": 3
   },
   "file_extension": ".py",
   "mimetype": "text/x-python",
   "name": "python",
   "nbconvert_exporter": "python",
   "pygments_lexer": "ipython3",
   "version": "3.7.4"
  }
 },
 "nbformat": 4,
 "nbformat_minor": 2
}
